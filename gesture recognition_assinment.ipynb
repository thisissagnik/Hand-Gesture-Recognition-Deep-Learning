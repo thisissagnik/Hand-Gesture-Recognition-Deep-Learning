{
 "cells": [
  {
   "cell_type": "markdown",
   "metadata": {
    "executionInfo": {
     "elapsed": 1156,
     "status": "ok",
     "timestamp": 1698639090247,
     "user": {
      "displayName": "Akhilesh Dwivedi",
      "userId": "14119964615119755673"
     },
     "user_tz": -330
    },
    "id": "_-F7-3C3BEEz"
   },
   "source": [
    "# Neural Network Project\n",
    "## Assignment -- Gesture Recognition\n",
    "​\n",
    "#### Problem Statement:\n",
    "​\n",
    "Imagine you are working as a data scientist at a home electronics company which manufactures state of the art smart televisions. You want to develop a cool feature in the smart-TV that can recognise five different gestures performed by the user which will help users control the TV without using a remote.\n",
    "\n",
    "​\n",
    "Practically, the coutput from this project is to predict the gesture and build a model which can help incresing the TV viewing experience—\n",
    "​\n"
   ]
  },
  {
   "cell_type": "code",
   "execution_count": null,
   "metadata": {},
   "outputs": [],
   "source": [
    "# Importing the necessary libraries\n",
    "\n",
    "import numpy as np\n",
    "import os\n",
    "#from scipy.misc import imread, imresize\n",
    "from skimage.transform import resize\n",
    "from skimage.io import imread\n",
    "import datetime\n",
    "import os\n",
    "import warnings\n",
    "warnings.filterwarnings(\"ignore\")"
   ]
  },
  {
   "cell_type": "code",
   "execution_count": 2,
   "metadata": {
    "executionInfo": {
     "elapsed": 3254,
     "status": "ok",
     "timestamp": 1698639132329,
     "user": {
      "displayName": "Akhilesh Dwivedi",
      "userId": "14119964615119755673"
     },
     "user_tz": -330
    },
    "id": "UloaCoUkBQUJ"
   },
   "outputs": [],
   "source": [
    "np.random.seed(30)\n",
    "import random as rn\n",
    "rn.seed(30)\n",
    "from keras import backend as K\n",
    "import tensorflow as tf\n",
    "#tf.set_random_seed(30)\n",
    "tf.random.set_seed(30)"
   ]
  },
  {
   "cell_type": "code",
   "execution_count": 3,
   "metadata": {
    "executionInfo": {
     "elapsed": 428,
     "status": "ok",
     "timestamp": 1698639136196,
     "user": {
      "displayName": "Akhilesh Dwivedi",
      "userId": "14119964615119755673"
     },
     "user_tz": -330
    },
    "id": "eP_xs4G3BQWx"
   },
   "outputs": [],
   "source": [
    "import cv2\n",
    "import matplotlib.pyplot as plt\n",
    "%matplotlib inline\n",
    "from PIL import Image"
   ]
  },
  {
   "cell_type": "markdown",
   "metadata": {},
   "source": [
    "## The drive is mounted at the below location"
   ]
  },
  {
   "cell_type": "code",
   "execution_count": 4,
   "metadata": {
    "colab": {
     "base_uri": "https://localhost:8080/"
    },
    "executionInfo": {
     "elapsed": 29556,
     "status": "ok",
     "timestamp": 1698639170475,
     "user": {
      "displayName": "Akhilesh Dwivedi",
      "userId": "14119964615119755673"
     },
     "user_tz": -330
    },
    "id": "uxmYqARtBQaB",
    "outputId": "c2100471-7c66-44d5-bdf0-61e3ad6a14bd"
   },
   "outputs": [
    {
     "name": "stdout",
     "output_type": "stream",
     "text": [
      "Mounted at /content/gdrive\n"
     ]
    }
   ],
   "source": [
    "from google.colab import drive\n",
    "drive.mount('/content/gdrive')"
   ]
  },
  {
   "cell_type": "code",
   "execution_count": 5,
   "metadata": {
    "executionInfo": {
     "elapsed": 454,
     "status": "ok",
     "timestamp": 1698639178471,
     "user": {
      "displayName": "Akhilesh Dwivedi",
      "userId": "14119964615119755673"
     },
     "user_tz": -330
    },
    "id": "o-T2vgzcBQc1"
   },
   "outputs": [],
   "source": [
    "# importing some other libraries which will be needed for model building.\n",
    "\n",
    "from keras.models import Sequential, Model\n",
    "from keras.layers import Dense, GRU, Flatten, TimeDistributed, Flatten, BatchNormalization, Activation\n",
    "from keras.layers import Conv3D, MaxPooling3D, Conv2D, MaxPooling2D\n",
    "from keras.layers import LSTM\n",
    "# from keras.layers import LSTM\n",
    "from keras.callbacks import ModelCheckpoint, ReduceLROnPlateau, EarlyStopping\n",
    "from keras import optimizers\n",
    "from keras.layers import Dropout"
   ]
  },
  {
   "cell_type": "code",
   "execution_count": 6,
   "metadata": {
    "executionInfo": {
     "elapsed": 539,
     "status": "ok",
     "timestamp": 1698639183401,
     "user": {
      "displayName": "Akhilesh Dwivedi",
      "userId": "14119964615119755673"
     },
     "user_tz": -330
    },
    "id": "S72UgvtwBQfx"
   },
   "outputs": [],
   "source": [
    "project_folder='gdrive/MyDrive/Colab Notebooks/Project_data'"
   ]
  },
  {
   "cell_type": "markdown",
   "metadata": {
    "id": "x8-i3b3nNo30"
   },
   "source": [
    "## The train and validation path of the data"
   ]
  },
  {
   "cell_type": "code",
   "execution_count": 7,
   "metadata": {
    "executionInfo": {
     "elapsed": 1216,
     "status": "ok",
     "timestamp": 1698639188556,
     "user": {
      "displayName": "Akhilesh Dwivedi",
      "userId": "14119964615119755673"
     },
     "user_tz": -330
    },
    "id": "MUIULExfNo7O"
   },
   "outputs": [],
   "source": [
    "train_doc = np.random.permutation(open(project_folder + '/' + 'train.csv').readlines())\n",
    "val_doc = np.random.permutation(open(project_folder + '/' + 'val.csv').readlines())\n",
    "batch_size = 64"
   ]
  },
  {
   "cell_type": "markdown",
   "metadata": {
    "id": "LLRqsDRUVyS6"
   },
   "source": [
    "## Let us create the Base Model"
   ]
  },
  {
   "cell_type": "code",
   "execution_count": 17,
   "metadata": {
    "executionInfo": {
     "elapsed": 461,
     "status": "ok",
     "timestamp": 1698488593993,
     "user": {
      "displayName": "Akhilesh Dwivedi",
      "userId": "14119964615119755673"
     },
     "user_tz": -330
    },
    "id": "mNr1rhRxNo-K"
   },
   "outputs": [],
   "source": [
    "def generator(source_path, folder_list, batch_size):\n",
    "    print( 'Source path = ', source_path, '; batch size =', batch_size)\n",
    "    img_idx = [2,4,6,8,10,12,14,16,18,20,22,24,26]\n",
    "    while True:\n",
    "        t = np.random.permutation(folder_list)\n",
    "        num_batches = len(t) // batch_size # calculate the number of batches\n",
    "        for batch in range(num_batches): # we iterate over the number of batches\n",
    "            batch_data = np.zeros((batch_size,13,80,80,3)) # x is the number of images you use for each video, (y,z) is the final size of the input images and 3 is the number of channels RGB\n",
    "            batch_labels = np.zeros((batch_size,5)) # batch_labels is the one hot representation of the output\n",
    "            for folder in range(batch_size): # iterate over the batch_size\n",
    "                imgs = os.listdir(source_path+'/'+ t[folder + (batch*batch_size)].split(';')[0]) # read all the images in the folder\n",
    "                for idx,item in enumerate(img_idx): #  Iterate iver the frames/images of a folder to read them in\n",
    "                    if item < len(imgs):\n",
    "                      image = imread(source_path+'/'+ t[folder + (batch*batch_size)].strip().split(';')[0]+'/'+imgs[item]).astype(np.float32)\n",
    "\n",
    "                      #crop the images and resize them. Note that the images are of 2 different shape\n",
    "                      image = resize(image,(80,80)).astype(np.float32)\n",
    "\n",
    "                      #and the conv3D will throw error if the inputs in a batch have different shapes\n",
    "                      batch_data[folder,idx,:,:,0] = (image[:,:,0])/255 #normalise and feed in the image\n",
    "                      batch_data[folder,idx,:,:,1] = (image[:,:,1])/255 #normalise and feed in the image\n",
    "                      batch_data[folder,idx,:,:,2] = (image[:,:,2])/255 #normalise and feed in the image\n",
    "\n",
    "                batch_labels[folder, int(t[folder + (batch*batch_size)].strip().split(';')[2])] = 1\n",
    "            yield batch_data, batch_labels #you yield the batch_data and the batch_labels, remember what does yield do\n",
    "\n",
    "\n",
    "        # write the code for the remaining data points which are left after full batches\n",
    "        if len(t) % batch_size != 0:\n",
    "            batch_data = np.zeros((batch_size,13,80,80,3))\n",
    "            batch_labels = np.zeros((batch_size,5)) # batch_labels is the one hot representation of the output\n",
    "            for folder in range(batch_size): # iterate over the batch_size\n",
    "                imgs = os.listdir(source_path+'/'+ t[folder + (batch*batch_size)].split(';')[0]) # read all the images in the folder\n",
    "                for idx,item in enumerate(img_idx): #  Iterate iver the frames/images of a folder to read them in\n",
    "                    if item < len(imgs):\n",
    "                      image = imread(source_path+'/'+ t[folder + (batch*batch_size)].strip().split(';')[0]+'/'+imgs[item]).astype(np.float32)\n",
    "                      image = resize(image,(80,80)).astype(np.float32)\n",
    "                      batch_data[folder,idx,:,:,0] = (image[:,:,0])/255\n",
    "                      batch_data[folder,idx,:,:,1] = (image[:,:,1])/255\n",
    "                      batch_data[folder,idx,:,:,2] = (image[:,:,2])/255\n",
    "                batch_labels[folder, int(t[folder + (batch*batch_size)].strip().split(';')[2])] = 1\n",
    "            yield batch_data, batch_labels #you yield the batch_data and the batch_labels, remember what does yield does"
   ]
  },
  {
   "cell_type": "code",
   "execution_count": 15,
   "metadata": {
    "colab": {
     "base_uri": "https://localhost:8080/"
    },
    "executionInfo": {
     "elapsed": 601,
     "status": "ok",
     "timestamp": 1698504931300,
     "user": {
      "displayName": "Akhilesh Dwivedi",
      "userId": "14119964615119755673"
     },
     "user_tz": -330
    },
    "id": "u8tLqcEFNpBP",
    "outputId": "00cc7908-3c81-4226-949b-87d81d1ac12b"
   },
   "outputs": [
    {
     "name": "stdout",
     "output_type": "stream",
     "text": [
      "# training sequences = 663\n",
      "# validation sequences = 100\n",
      "# epochs = 20\n"
     ]
    }
   ],
   "source": [
    "curr_dt_time = datetime.datetime.now()\n",
    "train_path = project_folder + '/' + 'train' #'Project_data\\\\train'\n",
    "val_path = project_folder + '/' + 'val'  #'Project_data\\\\val'\n",
    "num_train_sequences = len(train_doc)\n",
    "print('# training sequences =', num_train_sequences)\n",
    "num_val_sequences = len(val_doc)\n",
    "print('# validation sequences =', num_val_sequences)\n",
    "num_epochs = 20 # choose the number of epochs\n",
    "print ('# epochs =', num_epochs)"
   ]
  },
  {
   "cell_type": "code",
   "execution_count": 36,
   "metadata": {
    "colab": {
     "base_uri": "https://localhost:8080/",
     "height": 35
    },
    "executionInfo": {
     "elapsed": 510,
     "status": "ok",
     "timestamp": 1698479001033,
     "user": {
      "displayName": "Akhilesh Dwivedi",
      "userId": "14119964615119755673"
     },
     "user_tz": -330
    },
    "id": "dcoZaz5nOnG-",
    "outputId": "6f4f780f-3f60-424f-b70a-f87e6bc882f4"
   },
   "outputs": [
    {
     "data": {
      "application/vnd.google.colaboratory.intrinsic+json": {
       "type": "string"
      },
      "text/plain": [
       "'gdrive/MyDrive/Colab Notebooks/Project_data/train'"
      ]
     },
     "execution_count": 36,
     "metadata": {},
     "output_type": "execute_result"
    }
   ],
   "source": [
    "train_path"
   ]
  },
  {
   "cell_type": "code",
   "execution_count": 11,
   "metadata": {
    "executionInfo": {
     "elapsed": 3957,
     "status": "ok",
     "timestamp": 1698487686089,
     "user": {
      "displayName": "Akhilesh Dwivedi",
      "userId": "14119964615119755673"
     },
     "user_tz": -330
    },
    "id": "VHfT8I3GOnKG"
   },
   "outputs": [],
   "source": [
    "from keras.models import Sequential, Model\n",
    "from keras.layers import Dense, GRU, Flatten, TimeDistributed, Flatten, BatchNormalization, Activation\n",
    "from keras.layers import Conv3D, MaxPooling3D\n",
    "from keras.callbacks import ModelCheckpoint, ReduceLROnPlateau\n",
    "from keras import optimizers\n",
    "from keras.layers import Dropout\n",
    "\n",
    "#write your model here\n",
    "model = Sequential()\n",
    "model.add(Conv3D(32, (3, 3, 3), padding='same',\n",
    "         input_shape=(13,80,80,3)))\n",
    "model.add(Activation('relu'))\n",
    "model.add(BatchNormalization())\n",
    "model.add(MaxPooling3D(pool_size=(2, 2, 2)))\n",
    "\n",
    "model.add(Conv3D(64, (2, 2, 2), padding='same'))\n",
    "model.add(Activation('relu'))\n",
    "model.add(BatchNormalization())\n",
    "model.add(MaxPooling3D(pool_size=(2, 2, 2)))\n",
    "\n",
    "model.add(Conv3D(128, (2, 2, 2), padding='same'))\n",
    "model.add(Activation('relu'))\n",
    "model.add(BatchNormalization())\n",
    "model.add(MaxPooling3D(pool_size=(2, 2, 2)))\n",
    "\n",
    "model.add(Flatten())\n",
    "model.add(Dense(128,activation='relu'))\n",
    "model.add(BatchNormalization())\n",
    "model.add(Dropout(0.5))\n",
    "\n",
    "model.add(Dense(64,activation='relu'))\n",
    "model.add(BatchNormalization())\n",
    "model.add(Dropout(0.25))\n",
    "\n",
    "model.add(Dense(5,activation='softmax'))"
   ]
  },
  {
   "cell_type": "code",
   "execution_count": 12,
   "metadata": {
    "colab": {
     "base_uri": "https://localhost:8080/"
    },
    "executionInfo": {
     "elapsed": 473,
     "status": "ok",
     "timestamp": 1698487692547,
     "user": {
      "displayName": "Akhilesh Dwivedi",
      "userId": "14119964615119755673"
     },
     "user_tz": -330
    },
    "id": "qjbdh7LQOnM4",
    "outputId": "e4fad6eb-c92e-4e23-be56-1ffa3eb5ff22"
   },
   "outputs": [
    {
     "name": "stdout",
     "output_type": "stream",
     "text": [
      "Model: \"sequential\"\n",
      "_________________________________________________________________\n",
      " Layer (type)                Output Shape              Param #   \n",
      "=================================================================\n",
      " conv3d (Conv3D)             (None, 13, 80, 80, 32)    2624      \n",
      "                                                                 \n",
      " activation (Activation)     (None, 13, 80, 80, 32)    0         \n",
      "                                                                 \n",
      " batch_normalization (Batch  (None, 13, 80, 80, 32)    128       \n",
      " Normalization)                                                  \n",
      "                                                                 \n",
      " max_pooling3d (MaxPooling3  (None, 6, 40, 40, 32)     0         \n",
      " D)                                                              \n",
      "                                                                 \n",
      " conv3d_1 (Conv3D)           (None, 6, 40, 40, 64)     16448     \n",
      "                                                                 \n",
      " activation_1 (Activation)   (None, 6, 40, 40, 64)     0         \n",
      "                                                                 \n",
      " batch_normalization_1 (Bat  (None, 6, 40, 40, 64)     256       \n",
      " chNormalization)                                                \n",
      "                                                                 \n",
      " max_pooling3d_1 (MaxPoolin  (None, 3, 20, 20, 64)     0         \n",
      " g3D)                                                            \n",
      "                                                                 \n",
      " conv3d_2 (Conv3D)           (None, 3, 20, 20, 128)    65664     \n",
      "                                                                 \n",
      " activation_2 (Activation)   (None, 3, 20, 20, 128)    0         \n",
      "                                                                 \n",
      " batch_normalization_2 (Bat  (None, 3, 20, 20, 128)    512       \n",
      " chNormalization)                                                \n",
      "                                                                 \n",
      " max_pooling3d_2 (MaxPoolin  (None, 1, 10, 10, 128)    0         \n",
      " g3D)                                                            \n",
      "                                                                 \n",
      " flatten (Flatten)           (None, 12800)             0         \n",
      "                                                                 \n",
      " dense (Dense)               (None, 128)               1638528   \n",
      "                                                                 \n",
      " batch_normalization_3 (Bat  (None, 128)               512       \n",
      " chNormalization)                                                \n",
      "                                                                 \n",
      " dropout (Dropout)           (None, 128)               0         \n",
      "                                                                 \n",
      " dense_1 (Dense)             (None, 64)                8256      \n",
      "                                                                 \n",
      " batch_normalization_4 (Bat  (None, 64)                256       \n",
      " chNormalization)                                                \n",
      "                                                                 \n",
      " dropout_1 (Dropout)         (None, 64)                0         \n",
      "                                                                 \n",
      " dense_2 (Dense)             (None, 5)                 325       \n",
      "                                                                 \n",
      "=================================================================\n",
      "Total params: 1733509 (6.61 MB)\n",
      "Trainable params: 1732677 (6.61 MB)\n",
      "Non-trainable params: 832 (3.25 KB)\n",
      "_________________________________________________________________\n",
      "None\n"
     ]
    }
   ],
   "source": [
    "optimiser = 'sgd'\n",
    "model.compile(optimizer=optimiser, loss='categorical_crossentropy', metrics=['categorical_accuracy'])\n",
    "print (model.summary())"
   ]
  },
  {
   "cell_type": "code",
   "execution_count": 18,
   "metadata": {
    "executionInfo": {
     "elapsed": 521,
     "status": "ok",
     "timestamp": 1698488612164,
     "user": {
      "displayName": "Akhilesh Dwivedi",
      "userId": "14119964615119755673"
     },
     "user_tz": -330
    },
    "id": "Qk7IXLFLOnP-"
   },
   "outputs": [],
   "source": [
    "train_generator = generator(train_path, train_doc, batch_size)\n",
    "val_generator = generator(val_path, val_doc, batch_size)"
   ]
  },
  {
   "cell_type": "code",
   "execution_count": 14,
   "metadata": {
    "colab": {
     "base_uri": "https://localhost:8080/"
    },
    "executionInfo": {
     "elapsed": 725,
     "status": "ok",
     "timestamp": 1698487720673,
     "user": {
      "displayName": "Akhilesh Dwivedi",
      "userId": "14119964615119755673"
     },
     "user_tz": -330
    },
    "id": "nJvGNvn2PiJ4",
    "outputId": "c0f63e64-a2eb-428c-c127-1fe632abd054"
   },
   "outputs": [
    {
     "name": "stderr",
     "output_type": "stream",
     "text": [
      "WARNING:tensorflow:`period` argument is deprecated. Please use `save_freq` to specify the frequency in number of batches seen.\n"
     ]
    }
   ],
   "source": [
    "model_name = 'model_init' + '_' + str(curr_dt_time).replace(' ','').replace(':','_') + '/'\n",
    "\n",
    "if not os.path.exists(model_name):\n",
    "    os.mkdir(model_name)\n",
    "\n",
    "filepath = model_name + 'model-{epoch:05d}-{loss:.5f}-{categorical_accuracy:.5f}-{val_loss:.5f}-{val_categorical_accuracy:.5f}.h5'\n",
    "checkpoint = ModelCheckpoint(filepath, monitor='val_loss', verbose=1, save_best_only=False, save_weights_only=False, mode='auto', period=1)\n",
    "LR = ReduceLROnPlateau(monitor='val_loss', factor=0.2, verbose=1, patience=4)# write the REducelronplateau code here\n",
    "callbacks_list = [checkpoint, LR]"
   ]
  },
  {
   "cell_type": "code",
   "execution_count": 15,
   "metadata": {
    "executionInfo": {
     "elapsed": 434,
     "status": "ok",
     "timestamp": 1698487724965,
     "user": {
      "displayName": "Akhilesh Dwivedi",
      "userId": "14119964615119755673"
     },
     "user_tz": -330
    },
    "id": "fyokVty7PiNF"
   },
   "outputs": [],
   "source": [
    "if (num_train_sequences%batch_size) == 0:\n",
    "    steps_per_epoch = int(num_train_sequences/batch_size)\n",
    "else:\n",
    "    steps_per_epoch = (num_train_sequences//batch_size) + 1\n",
    "\n",
    "if (num_val_sequences%batch_size) == 0:\n",
    "    validation_steps = int(num_val_sequences/batch_size)\n",
    "else:\n",
    "    validation_steps = (num_val_sequences//batch_size) + 1"
   ]
  },
  {
   "cell_type": "code",
   "execution_count": 19,
   "metadata": {
    "colab": {
     "base_uri": "https://localhost:8080/"
    },
    "executionInfo": {
     "elapsed": 4570594,
     "status": "ok",
     "timestamp": 1698493190533,
     "user": {
      "displayName": "Akhilesh Dwivedi",
      "userId": "14119964615119755673"
     },
     "user_tz": -330
    },
    "id": "mRPH85OTPiP4",
    "outputId": "e9a53e20-a325-4fdf-bd95-ae9c15f47f4d"
   },
   "outputs": [
    {
     "name": "stdout",
     "output_type": "stream",
     "text": [
      "Source path =  gdrive/MyDrive/Colab Notebooks/Project_data/train ; batch size = 60\n",
      "Epoch 1/20\n",
      "12/12 [==============================] - ETA: 0s - loss: 1.8535 - categorical_accuracy: 0.3556  Source path =  gdrive/MyDrive/Colab Notebooks/Project_data/val ; batch size = 60\n",
      "\n",
      "Epoch 1: saving model to model_init_2023-10-2810_07_51.351354/model-00001-1.85353-0.35556-1.59889-0.23333.h5\n",
      "12/12 [==============================] - 2366s 214s/step - loss: 1.8535 - categorical_accuracy: 0.3556 - val_loss: 1.5989 - val_categorical_accuracy: 0.2333 - lr: 0.0100\n",
      "Epoch 2/20\n",
      "12/12 [==============================] - ETA: 0s - loss: 1.2838 - categorical_accuracy: 0.5250\n",
      "Epoch 2: saving model to model_init_2023-10-2810_07_51.351354/model-00002-1.28384-0.52500-1.64381-0.24167.h5\n",
      "12/12 [==============================] - 156s 14s/step - loss: 1.2838 - categorical_accuracy: 0.5250 - val_loss: 1.6438 - val_categorical_accuracy: 0.2417 - lr: 0.0100\n",
      "Epoch 3/20\n",
      "12/12 [==============================] - ETA: 0s - loss: 1.0323 - categorical_accuracy: 0.5903\n",
      "Epoch 3: saving model to model_init_2023-10-2810_07_51.351354/model-00003-1.03229-0.59028-1.75031-0.18333.h5\n",
      "12/12 [==============================] - 112s 10s/step - loss: 1.0323 - categorical_accuracy: 0.5903 - val_loss: 1.7503 - val_categorical_accuracy: 0.1833 - lr: 0.0100\n",
      "Epoch 4/20\n",
      "12/12 [==============================] - ETA: 0s - loss: 0.9182 - categorical_accuracy: 0.6583\n",
      "Epoch 4: saving model to model_init_2023-10-2810_07_51.351354/model-00004-0.91824-0.65833-1.87826-0.26667.h5\n",
      "12/12 [==============================] - 90s 8s/step - loss: 0.9182 - categorical_accuracy: 0.6583 - val_loss: 1.8783 - val_categorical_accuracy: 0.2667 - lr: 0.0100\n",
      "Epoch 5/20\n",
      "12/12 [==============================] - ETA: 0s - loss: 0.8253 - categorical_accuracy: 0.7069\n",
      "Epoch 5: saving model to model_init_2023-10-2810_07_51.351354/model-00005-0.82525-0.70694-2.30304-0.20000.h5\n",
      "\n",
      "Epoch 5: ReduceLROnPlateau reducing learning rate to 0.0019999999552965165.\n",
      "12/12 [==============================] - 102s 9s/step - loss: 0.8253 - categorical_accuracy: 0.7069 - val_loss: 2.3030 - val_categorical_accuracy: 0.2000 - lr: 0.0100\n",
      "Epoch 6/20\n",
      "12/12 [==============================] - ETA: 0s - loss: 0.7260 - categorical_accuracy: 0.7431\n",
      "Epoch 6: saving model to model_init_2023-10-2810_07_51.351354/model-00006-0.72601-0.74306-2.42574-0.24167.h5\n",
      "12/12 [==============================] - 103s 9s/step - loss: 0.7260 - categorical_accuracy: 0.7431 - val_loss: 2.4257 - val_categorical_accuracy: 0.2417 - lr: 0.0020\n",
      "Epoch 7/20\n",
      "12/12 [==============================] - ETA: 0s - loss: 0.6733 - categorical_accuracy: 0.7528\n",
      "Epoch 7: saving model to model_init_2023-10-2810_07_51.351354/model-00007-0.67334-0.75278-3.18395-0.13333.h5\n",
      "12/12 [==============================] - 101s 9s/step - loss: 0.6733 - categorical_accuracy: 0.7528 - val_loss: 3.1840 - val_categorical_accuracy: 0.1333 - lr: 0.0020\n",
      "Epoch 8/20\n",
      "12/12 [==============================] - ETA: 0s - loss: 0.5890 - categorical_accuracy: 0.7889\n",
      "Epoch 8: saving model to model_init_2023-10-2810_07_51.351354/model-00008-0.58896-0.78889-3.36286-0.16667.h5\n",
      "12/12 [==============================] - 98s 9s/step - loss: 0.5890 - categorical_accuracy: 0.7889 - val_loss: 3.3629 - val_categorical_accuracy: 0.1667 - lr: 0.0020\n",
      "Epoch 9/20\n",
      "12/12 [==============================] - ETA: 0s - loss: 0.5992 - categorical_accuracy: 0.7944\n",
      "Epoch 9: saving model to model_init_2023-10-2810_07_51.351354/model-00009-0.59922-0.79444-3.45048-0.18333.h5\n",
      "\n",
      "Epoch 9: ReduceLROnPlateau reducing learning rate to 0.0003999999724328518.\n",
      "12/12 [==============================] - 102s 9s/step - loss: 0.5992 - categorical_accuracy: 0.7944 - val_loss: 3.4505 - val_categorical_accuracy: 0.1833 - lr: 0.0020\n",
      "Epoch 10/20\n",
      "12/12 [==============================] - ETA: 0s - loss: 0.5796 - categorical_accuracy: 0.7778\n",
      "Epoch 10: saving model to model_init_2023-10-2810_07_51.351354/model-00010-0.57963-0.77778-3.63213-0.18333.h5\n",
      "12/12 [==============================] - 104s 9s/step - loss: 0.5796 - categorical_accuracy: 0.7778 - val_loss: 3.6321 - val_categorical_accuracy: 0.1833 - lr: 4.0000e-04\n",
      "Epoch 11/20\n",
      "12/12 [==============================] - ETA: 0s - loss: 0.5743 - categorical_accuracy: 0.8069\n",
      "Epoch 11: saving model to model_init_2023-10-2810_07_51.351354/model-00011-0.57427-0.80694-3.45516-0.23333.h5\n",
      "12/12 [==============================] - 101s 9s/step - loss: 0.5743 - categorical_accuracy: 0.8069 - val_loss: 3.4552 - val_categorical_accuracy: 0.2333 - lr: 4.0000e-04\n",
      "Epoch 12/20\n",
      "12/12 [==============================] - ETA: 0s - loss: 0.5822 - categorical_accuracy: 0.7792\n",
      "Epoch 12: saving model to model_init_2023-10-2810_07_51.351354/model-00012-0.58224-0.77917-3.85572-0.20000.h5\n",
      "12/12 [==============================] - 96s 9s/step - loss: 0.5822 - categorical_accuracy: 0.7792 - val_loss: 3.8557 - val_categorical_accuracy: 0.2000 - lr: 4.0000e-04\n",
      "Epoch 13/20\n",
      "12/12 [==============================] - ETA: 0s - loss: 0.5857 - categorical_accuracy: 0.8056\n",
      "Epoch 13: saving model to model_init_2023-10-2810_07_51.351354/model-00013-0.58569-0.80556-3.91497-0.16667.h5\n",
      "\n",
      "Epoch 13: ReduceLROnPlateau reducing learning rate to 7.999999215826393e-05.\n",
      "12/12 [==============================] - 105s 10s/step - loss: 0.5857 - categorical_accuracy: 0.8056 - val_loss: 3.9150 - val_categorical_accuracy: 0.1667 - lr: 4.0000e-04\n",
      "Epoch 14/20\n",
      "12/12 [==============================] - ETA: 0s - loss: 0.5435 - categorical_accuracy: 0.8000\n",
      "Epoch 14: saving model to model_init_2023-10-2810_07_51.351354/model-00014-0.54353-0.80000-3.67240-0.22500.h5\n",
      "12/12 [==============================] - 98s 9s/step - loss: 0.5435 - categorical_accuracy: 0.8000 - val_loss: 3.6724 - val_categorical_accuracy: 0.2250 - lr: 8.0000e-05\n",
      "Epoch 15/20\n",
      "12/12 [==============================] - ETA: 0s - loss: 0.5352 - categorical_accuracy: 0.8222\n",
      "Epoch 15: saving model to model_init_2023-10-2810_07_51.351354/model-00015-0.53519-0.82222-3.51897-0.23333.h5\n",
      "12/12 [==============================] - 101s 9s/step - loss: 0.5352 - categorical_accuracy: 0.8222 - val_loss: 3.5190 - val_categorical_accuracy: 0.2333 - lr: 8.0000e-05\n",
      "Epoch 16/20\n",
      "12/12 [==============================] - ETA: 0s - loss: 0.5253 - categorical_accuracy: 0.8181\n",
      "Epoch 16: saving model to model_init_2023-10-2810_07_51.351354/model-00016-0.52535-0.81806-3.69376-0.15833.h5\n",
      "12/12 [==============================] - 105s 9s/step - loss: 0.5253 - categorical_accuracy: 0.8181 - val_loss: 3.6938 - val_categorical_accuracy: 0.1583 - lr: 8.0000e-05\n",
      "Epoch 17/20\n",
      "12/12 [==============================] - ETA: 0s - loss: 0.5905 - categorical_accuracy: 0.7806\n",
      "Epoch 17: saving model to model_init_2023-10-2810_07_51.351354/model-00017-0.59052-0.78056-3.61366-0.23333.h5\n",
      "\n",
      "Epoch 17: ReduceLROnPlateau reducing learning rate to 1.599999814061448e-05.\n",
      "12/12 [==============================] - 105s 10s/step - loss: 0.5905 - categorical_accuracy: 0.7806 - val_loss: 3.6137 - val_categorical_accuracy: 0.2333 - lr: 8.0000e-05\n",
      "Epoch 18/20\n",
      "12/12 [==============================] - ETA: 0s - loss: 0.5623 - categorical_accuracy: 0.7958\n",
      "Epoch 18: saving model to model_init_2023-10-2810_07_51.351354/model-00018-0.56234-0.79583-3.64639-0.20000.h5\n",
      "12/12 [==============================] - 103s 9s/step - loss: 0.5623 - categorical_accuracy: 0.7958 - val_loss: 3.6464 - val_categorical_accuracy: 0.2000 - lr: 1.6000e-05\n",
      "Epoch 19/20\n",
      "12/12 [==============================] - ETA: 0s - loss: 0.5441 - categorical_accuracy: 0.8014\n",
      "Epoch 19: saving model to model_init_2023-10-2810_07_51.351354/model-00019-0.54414-0.80139-3.39309-0.21667.h5\n",
      "12/12 [==============================] - 102s 9s/step - loss: 0.5441 - categorical_accuracy: 0.8014 - val_loss: 3.3931 - val_categorical_accuracy: 0.2167 - lr: 1.6000e-05\n",
      "Epoch 20/20\n",
      "12/12 [==============================] - ETA: 0s - loss: 0.5810 - categorical_accuracy: 0.8028\n",
      "Epoch 20: saving model to model_init_2023-10-2810_07_51.351354/model-00020-0.58104-0.80278-3.51012-0.20000.h5\n",
      "12/12 [==============================] - 104s 9s/step - loss: 0.5810 - categorical_accuracy: 0.8028 - val_loss: 3.5101 - val_categorical_accuracy: 0.2000 - lr: 1.6000e-05\n"
     ]
    }
   ],
   "source": [
    "history = model.fit_generator(train_generator, steps_per_epoch=steps_per_epoch, epochs=num_epochs, verbose=1,\n",
    "                    callbacks=callbacks_list, validation_data=val_generator,\n",
    "                    validation_steps=validation_steps, class_weight=None, workers=1, initial_epoch=0)"
   ]
  },
  {
   "cell_type": "code",
   "execution_count": 20,
   "metadata": {
    "colab": {
     "base_uri": "https://localhost:8080/"
    },
    "executionInfo": {
     "elapsed": 456,
     "status": "ok",
     "timestamp": 1698493210779,
     "user": {
      "displayName": "Akhilesh Dwivedi",
      "userId": "14119964615119755673"
     },
     "user_tz": -330
    },
    "id": "sWs2-s7nOnS1",
    "outputId": "1277a046-a90a-401a-e9d1-d6e968efaf4a"
   },
   "outputs": [
    {
     "name": "stdout",
     "output_type": "stream",
     "text": [
      "Total Params: 1733509\n"
     ]
    }
   ],
   "source": [
    "\n",
    "print(\"Total Params:\", model.count_params())"
   ]
  },
  {
   "cell_type": "code",
   "execution_count": 21,
   "metadata": {
    "colab": {
     "base_uri": "https://localhost:8080/",
     "height": 716
    },
    "executionInfo": {
     "elapsed": 1206,
     "status": "ok",
     "timestamp": 1698493216846,
     "user": {
      "displayName": "Akhilesh Dwivedi",
      "userId": "14119964615119755673"
     },
     "user_tz": -330
    },
    "id": "wIyYKUtvOnWK",
    "outputId": "190272ae-a1da-4486-d2d4-8878a4d76936"
   },
   "outputs": [
    {
     "data": {
      "text/plain": [
       "<Figure size 1000x1000 with 0 Axes>"
      ]
     },
     "metadata": {},
     "output_type": "display_data"
    },
    {
     "data": {
      "image/png": "[encoded data removed]",
      "text/plain": [
       "<Figure size 800x800 with 2 Axes>"
      ]
     },
     "metadata": {},
     "output_type": "display_data"
    }
   ],
   "source": [
    "import matplotlib.pyplot as plt\n",
    "\n",
    "plt.figure(figsize = (10,10))\n",
    "\n",
    "acc = history.history['categorical_accuracy']\n",
    "val_acc = history.history['val_categorical_accuracy']\n",
    "\n",
    "loss = history.history['loss']\n",
    "val_loss = history.history['val_loss']\n",
    "\n",
    "epochs_range = range(num_epochs)\n",
    "\n",
    "plt.figure(figsize=(8, 8))\n",
    "plt.subplot(1, 2, 1)\n",
    "plt.plot(epochs_range, acc, label='Training Accuracy')\n",
    "plt.plot(epochs_range, val_acc, label='Validation Accuracy')\n",
    "plt.legend(loc='lower right')\n",
    "plt.title('Training and Validation Accuracy')\n",
    "\n",
    "plt.subplot(1, 2, 2)\n",
    "plt.plot(epochs_range, loss, label='Training Loss')\n",
    "plt.plot(epochs_range, val_loss, label='Validation Loss')\n",
    "plt.legend(loc='upper right')\n",
    "plt.title('Training and Validation Loss')\n",
    "plt.show()"
   ]
  },
  {
   "cell_type": "markdown",
   "metadata": {
    "id": "Efs6b8uUOnZT"
   },
   "source": [
    "## Creating the second model for a better performance\n",
    "## model 2"
   ]
  },
  {
   "cell_type": "code",
   "execution_count": 23,
   "metadata": {
    "colab": {
     "base_uri": "https://localhost:8080/"
    },
    "executionInfo": {
     "elapsed": 50,
     "status": "ok",
     "timestamp": 1698493321016,
     "user": {
      "displayName": "Akhilesh Dwivedi",
      "userId": "14119964615119755673"
     },
     "user_tz": -330
    },
    "id": "4i5zNPXfOnc_",
    "outputId": "25340358-5a11-4aeb-fe94-10a46605ac61"
   },
   "outputs": [
    {
     "name": "stderr",
     "output_type": "stream",
     "text": [
      "WARNING:tensorflow:`period` argument is deprecated. Please use `save_freq` to specify the frequency in number of batches seen.\n"
     ]
    },
    {
     "name": "stdout",
     "output_type": "stream",
     "text": [
      "Model: \"sequential\"\n",
      "_________________________________________________________________\n",
      " Layer (type)                Output Shape              Param #   \n",
      "=================================================================\n",
      " conv3d (Conv3D)             (None, 13, 80, 80, 32)    2624      \n",
      "                                                                 \n",
      " activation (Activation)     (None, 13, 80, 80, 32)    0         \n",
      "                                                                 \n",
      " batch_normalization (Batch  (None, 13, 80, 80, 32)    128       \n",
      " Normalization)                                                  \n",
      "                                                                 \n",
      " max_pooling3d (MaxPooling3  (None, 6, 40, 40, 32)     0         \n",
      " D)                                                              \n",
      "                                                                 \n",
      " conv3d_1 (Conv3D)           (None, 6, 40, 40, 64)     16448     \n",
      "                                                                 \n",
      " activation_1 (Activation)   (None, 6, 40, 40, 64)     0         \n",
      "                                                                 \n",
      " batch_normalization_1 (Bat  (None, 6, 40, 40, 64)     256       \n",
      " chNormalization)                                                \n",
      "                                                                 \n",
      " max_pooling3d_1 (MaxPoolin  (None, 3, 20, 20, 64)     0         \n",
      " g3D)                                                            \n",
      "                                                                 \n",
      " conv3d_2 (Conv3D)           (None, 3, 20, 20, 128)    65664     \n",
      "                                                                 \n",
      " activation_2 (Activation)   (None, 3, 20, 20, 128)    0         \n",
      "                                                                 \n",
      " batch_normalization_2 (Bat  (None, 3, 20, 20, 128)    512       \n",
      " chNormalization)                                                \n",
      "                                                                 \n",
      " max_pooling3d_2 (MaxPoolin  (None, 1, 10, 10, 128)    0         \n",
      " g3D)                                                            \n",
      "                                                                 \n",
      " flatten (Flatten)           (None, 12800)             0         \n",
      "                                                                 \n",
      " dense (Dense)               (None, 128)               1638528   \n",
      "                                                                 \n",
      " batch_normalization_3 (Bat  (None, 128)               512       \n",
      " chNormalization)                                                \n",
      "                                                                 \n",
      " dropout (Dropout)           (None, 128)               0         \n",
      "                                                                 \n",
      " dense_1 (Dense)             (None, 64)                8256      \n",
      "                                                                 \n",
      " batch_normalization_4 (Bat  (None, 64)                256       \n",
      " chNormalization)                                                \n",
      "                                                                 \n",
      " dropout_1 (Dropout)         (None, 64)                0         \n",
      "                                                                 \n",
      " dense_2 (Dense)             (None, 5)                 325       \n",
      "                                                                 \n",
      "=================================================================\n",
      "Total params: 1733509 (6.61 MB)\n",
      "Trainable params: 1732677 (6.61 MB)\n",
      "Non-trainable params: 832 (3.25 KB)\n",
      "_________________________________________________________________\n",
      "None\n"
     ]
    }
   ],
   "source": [
    "new_batch_size = 30\n",
    "train_generator = generator(train_path, train_doc, new_batch_size)\n",
    "val_generator = generator(val_path, val_doc, new_batch_size)\n",
    "\n",
    "model_name = 'model_init' + '_' + str(curr_dt_time).replace(' ','').replace(':','_') + '/'\n",
    "\n",
    "if not os.path.exists(model_name):\n",
    "    os.mkdir(model_name)\n",
    "\n",
    "filepath = model_name + 'model-{epoch:05d}-{loss:.5f}-{categorical_accuracy:.5f}-{val_loss:.5f}-{val_categorical_accuracy:.5f}.h5'\n",
    "checkpoint = ModelCheckpoint(filepath, monitor='val_loss', verbose=1, save_best_only=False, save_weights_only=False, mode='auto', period=1)\n",
    "LR = ReduceLROnPlateau(monitor='val_loss', factor=0.2, verbose=1, patience=4)# write the REducelronplateau code here\n",
    "callbacks_list = [checkpoint, LR]\n",
    "\n",
    "optimiser = 'sgd'\n",
    "model.compile(optimizer=optimiser, loss='categorical_crossentropy', metrics=['categorical_accuracy'])\n",
    "print (model.summary())"
   ]
  },
  {
   "cell_type": "code",
   "execution_count": 24,
   "metadata": {
    "colab": {
     "base_uri": "https://localhost:8080/"
    },
    "executionInfo": {
     "elapsed": 1050317,
     "status": "ok",
     "timestamp": 1698494451219,
     "user": {
      "displayName": "Akhilesh Dwivedi",
      "userId": "14119964615119755673"
     },
     "user_tz": -330
    },
    "id": "nbjon4R7NpE0",
    "outputId": "307872ac-aa48-4162-a8e7-ee43f36dbb62"
   },
   "outputs": [
    {
     "name": "stdout",
     "output_type": "stream",
     "text": [
      "Source path =  gdrive/MyDrive/Colab Notebooks/Project_data/train ; batch size = 30\n",
      "Epoch 1/20\n",
      "12/12 [==============================] - ETA: 0s - loss: 0.6163 - categorical_accuracy: 0.7833Source path =  gdrive/MyDrive/Colab Notebooks/Project_data/val ; batch size = 30\n",
      "\n",
      "Epoch 1: saving model to model_init_2023-10-2810_07_51.351354/model-00001-0.61634-0.78333-3.13867-0.20000.h5\n",
      "12/12 [==============================] - 64s 5s/step - loss: 0.6163 - categorical_accuracy: 0.7833 - val_loss: 3.1387 - val_categorical_accuracy: 0.2000 - lr: 0.0100\n",
      "Epoch 2/20\n",
      "12/12 [==============================] - ETA: 0s - loss: 0.7320 - categorical_accuracy: 0.7500\n",
      "Epoch 2: saving model to model_init_2023-10-2810_07_51.351354/model-00002-0.73196-0.75000-2.66125-0.30000.h5\n",
      "12/12 [==============================] - 55s 5s/step - loss: 0.7320 - categorical_accuracy: 0.7500 - val_loss: 2.6612 - val_categorical_accuracy: 0.3000 - lr: 0.0100\n",
      "Epoch 3/20\n",
      "12/12 [==============================] - ETA: 0s - loss: 0.6301 - categorical_accuracy: 0.7889\n",
      "Epoch 3: saving model to model_init_2023-10-2810_07_51.351354/model-00003-0.63013-0.78889-2.70592-0.36667.h5\n",
      "12/12 [==============================] - 53s 5s/step - loss: 0.6301 - categorical_accuracy: 0.7889 - val_loss: 2.7059 - val_categorical_accuracy: 0.3667 - lr: 0.0100\n",
      "Epoch 4/20\n",
      "12/12 [==============================] - ETA: 0s - loss: 0.6215 - categorical_accuracy: 0.7722\n",
      "Epoch 4: saving model to model_init_2023-10-2810_07_51.351354/model-00004-0.62152-0.77222-2.34650-0.30000.h5\n",
      "12/12 [==============================] - 47s 4s/step - loss: 0.6215 - categorical_accuracy: 0.7722 - val_loss: 2.3465 - val_categorical_accuracy: 0.3000 - lr: 0.0100\n",
      "Epoch 5/20\n",
      "12/12 [==============================] - ETA: 0s - loss: 0.5719 - categorical_accuracy: 0.8028\n",
      "Epoch 5: saving model to model_init_2023-10-2810_07_51.351354/model-00005-0.57191-0.80278-2.74706-0.26667.h5\n",
      "12/12 [==============================] - 53s 5s/step - loss: 0.5719 - categorical_accuracy: 0.8028 - val_loss: 2.7471 - val_categorical_accuracy: 0.2667 - lr: 0.0100\n",
      "Epoch 6/20\n",
      "12/12 [==============================] - ETA: 0s - loss: 0.4704 - categorical_accuracy: 0.8444\n",
      "Epoch 6: saving model to model_init_2023-10-2810_07_51.351354/model-00006-0.47042-0.84444-2.38647-0.33333.h5\n",
      "12/12 [==============================] - 51s 5s/step - loss: 0.4704 - categorical_accuracy: 0.8444 - val_loss: 2.3865 - val_categorical_accuracy: 0.3333 - lr: 0.0100\n",
      "Epoch 7/20\n",
      "12/12 [==============================] - ETA: 0s - loss: 0.5389 - categorical_accuracy: 0.7944\n",
      "Epoch 7: saving model to model_init_2023-10-2810_07_51.351354/model-00007-0.53893-0.79444-2.24049-0.33333.h5\n",
      "12/12 [==============================] - 52s 5s/step - loss: 0.5389 - categorical_accuracy: 0.7944 - val_loss: 2.2405 - val_categorical_accuracy: 0.3333 - lr: 0.0100\n",
      "Epoch 8/20\n",
      "12/12 [==============================] - ETA: 0s - loss: 0.5067 - categorical_accuracy: 0.8167\n",
      "Epoch 8: saving model to model_init_2023-10-2810_07_51.351354/model-00008-0.50668-0.81667-2.77726-0.23333.h5\n",
      "12/12 [==============================] - 55s 5s/step - loss: 0.5067 - categorical_accuracy: 0.8167 - val_loss: 2.7773 - val_categorical_accuracy: 0.2333 - lr: 0.0100\n",
      "Epoch 9/20\n",
      "12/12 [==============================] - ETA: 0s - loss: 0.3915 - categorical_accuracy: 0.8806\n",
      "Epoch 9: saving model to model_init_2023-10-2810_07_51.351354/model-00009-0.39151-0.88056-2.59828-0.28333.h5\n",
      "12/12 [==============================] - 48s 4s/step - loss: 0.3915 - categorical_accuracy: 0.8806 - val_loss: 2.5983 - val_categorical_accuracy: 0.2833 - lr: 0.0100\n",
      "Epoch 10/20\n",
      "12/12 [==============================] - ETA: 0s - loss: 0.4303 - categorical_accuracy: 0.8639\n",
      "Epoch 10: saving model to model_init_2023-10-2810_07_51.351354/model-00010-0.43026-0.86389-1.91667-0.36667.h5\n",
      "12/12 [==============================] - 49s 4s/step - loss: 0.4303 - categorical_accuracy: 0.8639 - val_loss: 1.9167 - val_categorical_accuracy: 0.3667 - lr: 0.0100\n",
      "Epoch 11/20\n",
      "12/12 [==============================] - ETA: 0s - loss: 0.4326 - categorical_accuracy: 0.8722\n",
      "Epoch 11: saving model to model_init_2023-10-2810_07_51.351354/model-00011-0.43257-0.87222-1.99250-0.43333.h5\n",
      "12/12 [==============================] - 54s 5s/step - loss: 0.4326 - categorical_accuracy: 0.8722 - val_loss: 1.9925 - val_categorical_accuracy: 0.4333 - lr: 0.0100\n",
      "Epoch 12/20\n",
      "12/12 [==============================] - ETA: 0s - loss: 0.4080 - categorical_accuracy: 0.8639\n",
      "Epoch 12: saving model to model_init_2023-10-2810_07_51.351354/model-00012-0.40799-0.86389-1.64639-0.41667.h5\n",
      "12/12 [==============================] - 52s 5s/step - loss: 0.4080 - categorical_accuracy: 0.8639 - val_loss: 1.6464 - val_categorical_accuracy: 0.4167 - lr: 0.0100\n",
      "Epoch 13/20\n",
      "12/12 [==============================] - ETA: 0s - loss: 0.3975 - categorical_accuracy: 0.8667\n",
      "Epoch 13: saving model to model_init_2023-10-2810_07_51.351354/model-00013-0.39748-0.86667-1.49227-0.50000.h5\n",
      "12/12 [==============================] - 52s 5s/step - loss: 0.3975 - categorical_accuracy: 0.8667 - val_loss: 1.4923 - val_categorical_accuracy: 0.5000 - lr: 0.0100\n",
      "Epoch 14/20\n",
      "12/12 [==============================] - ETA: 0s - loss: 0.3368 - categorical_accuracy: 0.9000\n",
      "Epoch 14: saving model to model_init_2023-10-2810_07_51.351354/model-00014-0.33684-0.90000-1.75217-0.50000.h5\n",
      "12/12 [==============================] - 50s 5s/step - loss: 0.3368 - categorical_accuracy: 0.9000 - val_loss: 1.7522 - val_categorical_accuracy: 0.5000 - lr: 0.0100\n",
      "Epoch 15/20\n",
      "12/12 [==============================] - ETA: 0s - loss: 0.3402 - categorical_accuracy: 0.8806\n",
      "Epoch 15: saving model to model_init_2023-10-2810_07_51.351354/model-00015-0.34017-0.88056-1.37815-0.46667.h5\n",
      "12/12 [==============================] - 50s 5s/step - loss: 0.3402 - categorical_accuracy: 0.8806 - val_loss: 1.3781 - val_categorical_accuracy: 0.4667 - lr: 0.0100\n",
      "Epoch 16/20\n",
      "12/12 [==============================] - ETA: 0s - loss: 0.3054 - categorical_accuracy: 0.9028\n",
      "Epoch 16: saving model to model_init_2023-10-2810_07_51.351354/model-00016-0.30542-0.90278-1.62347-0.46667.h5\n",
      "12/12 [==============================] - 52s 5s/step - loss: 0.3054 - categorical_accuracy: 0.9028 - val_loss: 1.6235 - val_categorical_accuracy: 0.4667 - lr: 0.0100\n",
      "Epoch 17/20\n",
      "12/12 [==============================] - ETA: 0s - loss: 0.2871 - categorical_accuracy: 0.9194\n",
      "Epoch 17: saving model to model_init_2023-10-2810_07_51.351354/model-00017-0.28714-0.91944-2.02824-0.40000.h5\n",
      "12/12 [==============================] - 54s 5s/step - loss: 0.2871 - categorical_accuracy: 0.9194 - val_loss: 2.0282 - val_categorical_accuracy: 0.4000 - lr: 0.0100\n",
      "Epoch 18/20\n",
      "12/12 [==============================] - ETA: 0s - loss: 0.2539 - categorical_accuracy: 0.9222\n",
      "Epoch 18: saving model to model_init_2023-10-2810_07_51.351354/model-00018-0.25388-0.92222-1.63114-0.50000.h5\n",
      "12/12 [==============================] - 51s 5s/step - loss: 0.2539 - categorical_accuracy: 0.9222 - val_loss: 1.6311 - val_categorical_accuracy: 0.5000 - lr: 0.0100\n",
      "Epoch 19/20\n",
      "12/12 [==============================] - ETA: 0s - loss: 0.2767 - categorical_accuracy: 0.9278\n",
      "Epoch 19: saving model to model_init_2023-10-2810_07_51.351354/model-00019-0.27668-0.92778-1.16696-0.76667.h5\n",
      "12/12 [==============================] - 52s 5s/step - loss: 0.2767 - categorical_accuracy: 0.9278 - val_loss: 1.1670 - val_categorical_accuracy: 0.7667 - lr: 0.0100\n",
      "Epoch 20/20\n",
      "12/12 [==============================] - ETA: 0s - loss: 0.2639 - categorical_accuracy: 0.9056\n",
      "Epoch 20: saving model to model_init_2023-10-2810_07_51.351354/model-00020-0.26387-0.90556-1.37887-0.50000.h5\n",
      "12/12 [==============================] - 50s 4s/step - loss: 0.2639 - categorical_accuracy: 0.9056 - val_loss: 1.3789 - val_categorical_accuracy: 0.5000 - lr: 0.0100\n"
     ]
    }
   ],
   "source": [
    "num_epochs2=20\n",
    "history2 = model.fit_generator(train_generator, steps_per_epoch=steps_per_epoch, epochs=num_epochs2, verbose=1,\n",
    "                    callbacks=callbacks_list, validation_data=val_generator,\n",
    "                    validation_steps=validation_steps, class_weight=None, workers=1, initial_epoch=0)"
   ]
  },
  {
   "cell_type": "markdown",
   "metadata": {
    "id": "PuqpqQh-GMiS"
   },
   "source": [
    "## Lecture ref Model 3"
   ]
  },
  {
   "cell_type": "code",
   "execution_count": 20,
   "metadata": {
    "executionInfo": {
     "elapsed": 455,
     "status": "ok",
     "timestamp": 1698604787353,
     "user": {
      "displayName": "Akhilesh Dwivedi",
      "userId": "14119964615119755673"
     },
     "user_tz": -330
    },
    "id": "si_pK9iee55W"
   },
   "outputs": [],
   "source": [
    "def generator(source_path, folder_list, batch_size):\n",
    "    print( 'Source path = ', source_path, '; batch size =', batch_size)\n",
    "    img_idx = [0,1,2,4,6,8,10,12,14,16,18,20,22,24,26,27,28,29]\n",
    "    while True:\n",
    "        t = np.random.permutation(folder_list)\n",
    "        num_batches = int(len(t)/batch_size)\n",
    "        for batch in range(num_batches):\n",
    "            batch_data = np.zeros((batch_size,18,84,84,3))\n",
    "            batch_labels = np.zeros((batch_size,5))\n",
    "            for folder in range(batch_size):\n",
    "                imgs = os.listdir(source_path+'/'+ t[folder + (batch*batch_size)].split(';')[0])\n",
    "                for idx,item in enumerate(img_idx):\n",
    "                    if item < len(imgs):\n",
    "                      image = imread(source_path+'/'+ t[folder + (batch*batch_size)].strip().split(';')[0]+'/'+imgs[item]).astype(np.float32)\n",
    "                      if image.shape[1] == 160:\n",
    "                          image = resize(image,(84,84)).astype(np.float32)\n",
    "                      else:\n",
    "                          image = resize(image,(84,84)).astype(np.float32)\n",
    "\n",
    "                      batch_data[folder,idx,:,:,0] = image[:,:,0] - 104\n",
    "                      batch_data[folder,idx,:,:,1] = image[:,:,1] - 117\n",
    "                      batch_data[folder,idx,:,:,2] = image[:,:,2] - 123\n",
    "\n",
    "                batch_labels[folder, int(t[folder + (batch*batch_size)].strip().split(';')[2])] = 1\n",
    "            yield batch_data, batch_labels\n",
    "\n",
    "        if (len(t)%batch_size) != 0:\n",
    "            batch_data = np.zeros((len(t)%batch_size,18,84,84,3))\n",
    "            batch_labels = np.zeros((len(t)%batch_size,5))\n",
    "            for folder in range(len(t)%batch_size):\n",
    "                imgs = os.listdir(source_path+'/'+ t[folder + (num_batches*batch_size)].split(';')[0])\n",
    "                for idx,item in enumerate(img_idx):\n",
    "                    if item < len(imgs):\n",
    "                      image = imread(source_path+'/'+ t[folder + (num_batches*batch_size)].strip().split(';')[0]+'/'+imgs[item]).astype(np.float32)\n",
    "                      if image.shape[1] == 160:\n",
    "                          # image = imresize(image[:,20:140,:],(84,84)).astype(np.float32)\n",
    "                          image = resize(image,(84,84)).astype(np.float32)\n",
    "                      else:\n",
    "                          image = resize(image,(84,84)).astype(np.float32)\n",
    "\n",
    "                      batch_data[folder,idx,:,:,0] = image[:,:,0] - 104\n",
    "                      batch_data[folder,idx,:,:,1] = image[:,:,1] - 117\n",
    "                      batch_data[folder,idx,:,:,2] = image[:,:,2] - 123\n",
    "\n",
    "                batch_labels[folder, int(t[folder + (num_batches*batch_size)].strip().split(';')[2])] = 1\n",
    "\n",
    "            yield batch_data, batch_labels"
   ]
  },
  {
   "cell_type": "code",
   "execution_count": 21,
   "metadata": {
    "executionInfo": {
     "elapsed": 474,
     "status": "ok",
     "timestamp": 1698604796076,
     "user": {
      "displayName": "Akhilesh Dwivedi",
      "userId": "14119964615119755673"
     },
     "user_tz": -330
    },
    "id": "CgZojaqDe58T"
   },
   "outputs": [],
   "source": [
    "from keras.models import Sequential\n",
    "from keras.layers import Dense, GRU, Dropout, Flatten, BatchNormalization, Activation\n",
    "from keras.layers import Conv3D, MaxPooling3D\n",
    "from keras.callbacks import ModelCheckpoint, ReduceLROnPlateau\n",
    "from keras import optimizers\n",
    "\n",
    "model = Sequential()\n",
    "model.add(Conv3D(64, (3,3,3), strides=(1,1,1), padding='same', input_shape=(18,84,84,3)))\n",
    "model.add(BatchNormalization())\n",
    "model.add(Activation('elu'))\n",
    "model.add(MaxPooling3D(pool_size=(2,2,1), strides=(2,2,1)))\n",
    "\n",
    "model.add(Conv3D(128, (3,3,3), strides=(1,1,1), padding='same'))\n",
    "model.add(BatchNormalization())\n",
    "model.add(Activation('elu'))\n",
    "model.add(MaxPooling3D(pool_size=(2,2,2), strides=(2,2,2)))\n",
    "\n",
    "# model.add(Dropout(0.25))\n",
    "\n",
    "model.add(Conv3D(256, (3,3,3), strides=(1,1,1), padding='same'))\n",
    "model.add(BatchNormalization())\n",
    "model.add(Activation('elu'))\n",
    "model.add(MaxPooling3D(pool_size=(2,2,2), strides=(2,2,2)))\n",
    "\n",
    "# model.add(Dropout(0.25))\n",
    "\n",
    "model.add(Conv3D(256, (3,3,3), strides=(1,1,1), padding='same'))\n",
    "model.add(BatchNormalization())\n",
    "model.add(Activation('elu'))\n",
    "model.add(MaxPooling3D(pool_size=(2,2,2), strides=(2,2,2)))\n",
    "\n",
    "model.add(Flatten())\n",
    "model.add(Dropout(0.5))\n",
    "model.add(Dense(512, activation='elu'))\n",
    "model.add(Dropout(0.5))\n",
    "model.add(Dense(5, activation='softmax'))"
   ]
  },
  {
   "cell_type": "code",
   "execution_count": 22,
   "metadata": {
    "colab": {
     "base_uri": "https://localhost:8080/"
    },
    "executionInfo": {
     "elapsed": 626,
     "status": "ok",
     "timestamp": 1698604804487,
     "user": {
      "displayName": "Akhilesh Dwivedi",
      "userId": "14119964615119755673"
     },
     "user_tz": -330
    },
    "id": "7qNsEb9Be5_p",
    "outputId": "be1952a8-0dc4-452e-f45b-59bbe2c506a8"
   },
   "outputs": [
    {
     "name": "stdout",
     "output_type": "stream",
     "text": [
      "Model: \"sequential_1\"\n",
      "_________________________________________________________________\n",
      " Layer (type)                Output Shape              Param #   \n",
      "=================================================================\n",
      " conv3d (Conv3D)             (None, 18, 84, 84, 64)    5248      \n",
      "                                                                 \n",
      " batch_normalization (Batch  (None, 18, 84, 84, 64)    256       \n",
      " Normalization)                                                  \n",
      "                                                                 \n",
      " activation (Activation)     (None, 18, 84, 84, 64)    0         \n",
      "                                                                 \n",
      " max_pooling3d (MaxPooling3  (None, 9, 42, 84, 64)     0         \n",
      " D)                                                              \n",
      "                                                                 \n",
      " conv3d_1 (Conv3D)           (None, 9, 42, 84, 128)    221312    \n",
      "                                                                 \n",
      " batch_normalization_1 (Bat  (None, 9, 42, 84, 128)    512       \n",
      " chNormalization)                                                \n",
      "                                                                 \n",
      " activation_1 (Activation)   (None, 9, 42, 84, 128)    0         \n",
      "                                                                 \n",
      " max_pooling3d_1 (MaxPoolin  (None, 4, 21, 42, 128)    0         \n",
      " g3D)                                                            \n",
      "                                                                 \n",
      " conv3d_2 (Conv3D)           (None, 4, 21, 42, 256)    884992    \n",
      "                                                                 \n",
      " batch_normalization_2 (Bat  (None, 4, 21, 42, 256)    1024      \n",
      " chNormalization)                                                \n",
      "                                                                 \n",
      " activation_2 (Activation)   (None, 4, 21, 42, 256)    0         \n",
      "                                                                 \n",
      " max_pooling3d_2 (MaxPoolin  (None, 2, 10, 21, 256)    0         \n",
      " g3D)                                                            \n",
      "                                                                 \n",
      " conv3d_3 (Conv3D)           (None, 2, 10, 21, 256)    1769728   \n",
      "                                                                 \n",
      " batch_normalization_3 (Bat  (None, 2, 10, 21, 256)    1024      \n",
      " chNormalization)                                                \n",
      "                                                                 \n",
      " activation_3 (Activation)   (None, 2, 10, 21, 256)    0         \n",
      "                                                                 \n",
      " max_pooling3d_3 (MaxPoolin  (None, 1, 5, 10, 256)     0         \n",
      " g3D)                                                            \n",
      "                                                                 \n",
      " flatten_1 (Flatten)         (None, 12800)             0         \n",
      "                                                                 \n",
      " dropout_1 (Dropout)         (None, 12800)             0         \n",
      "                                                                 \n",
      " dense_3 (Dense)             (None, 512)               6554112   \n",
      "                                                                 \n",
      " dropout_2 (Dropout)         (None, 512)               0         \n",
      "                                                                 \n",
      " dense_4 (Dense)             (None, 5)                 2565      \n",
      "                                                                 \n",
      "=================================================================\n",
      "Total params: 9440773 (36.01 MB)\n",
      "Trainable params: 9439365 (36.01 MB)\n",
      "Non-trainable params: 1408 (5.50 KB)\n",
      "_________________________________________________________________\n",
      "None\n"
     ]
    }
   ],
   "source": [
    "optimiser = 'sgd'\n",
    "model.compile(optimizer=optimiser, loss='categorical_crossentropy', metrics=['categorical_accuracy'])\n",
    "print (model.summary())"
   ]
  },
  {
   "cell_type": "code",
   "execution_count": 23,
   "metadata": {
    "executionInfo": {
     "elapsed": 438,
     "status": "ok",
     "timestamp": 1698604813704,
     "user": {
      "displayName": "Akhilesh Dwivedi",
      "userId": "14119964615119755673"
     },
     "user_tz": -330
    },
    "id": "6qoMwjZUe6Cs"
   },
   "outputs": [],
   "source": [
    "train_generator = generator(train_path, train_doc, batch_size)\n",
    "val_generator = generator(val_path, val_doc, batch_size)"
   ]
  },
  {
   "cell_type": "code",
   "execution_count": 24,
   "metadata": {
    "colab": {
     "base_uri": "https://localhost:8080/"
    },
    "executionInfo": {
     "elapsed": 22,
     "status": "ok",
     "timestamp": 1698604821428,
     "user": {
      "displayName": "Akhilesh Dwivedi",
      "userId": "14119964615119755673"
     },
     "user_tz": -330
    },
    "id": "HeAF9jcm52g6",
    "outputId": "2a729fc0-5665-439f-8623-12fea6d0a6a9"
   },
   "outputs": [
    {
     "name": "stdout",
     "output_type": "stream",
     "text": [
      "# training sequences = 663\n",
      "# validation sequences = 100\n",
      "# epochs = 25\n"
     ]
    }
   ],
   "source": [
    "num_train_sequences = len(train_doc)\n",
    "print('# training sequences =', num_train_sequences)\n",
    "num_val_sequences = len(val_doc)\n",
    "print('# validation sequences =', num_val_sequences)\n",
    "num_epochs = 25\n",
    "print ('# epochs =', num_epochs)"
   ]
  },
  {
   "cell_type": "code",
   "execution_count": 25,
   "metadata": {
    "colab": {
     "base_uri": "https://localhost:8080/"
    },
    "executionInfo": {
     "elapsed": 572,
     "status": "ok",
     "timestamp": 1698604830054,
     "user": {
      "displayName": "Akhilesh Dwivedi",
      "userId": "14119964615119755673"
     },
     "user_tz": -330
    },
    "id": "m89Vtjore6FZ",
    "outputId": "3f11f769-8afb-49ee-8ba6-d3e3162e6409"
   },
   "outputs": [
    {
     "name": "stderr",
     "output_type": "stream",
     "text": [
      "WARNING:tensorflow:`period` argument is deprecated. Please use `save_freq` to specify the frequency in number of batches seen.\n",
      "WARNING:tensorflow:`epsilon` argument is deprecated and will be removed, use `min_delta` instead.\n"
     ]
    }
   ],
   "source": [
    "model_name = 'model_init' + '_' + str(curr_dt_time).replace(' ','').replace(':','_') + '/'\n",
    "\n",
    "if not os.path.exists(model_name):\n",
    "    os.mkdir(model_name)\n",
    "\n",
    "filepath = model_name + 'model-{epoch:05d}-{loss:.5f}-{categorical_accuracy:.5f}-{val_loss:.5f}-{val_categorical_accuracy:.5f}.h5'\n",
    "\n",
    "checkpoint = ModelCheckpoint(filepath, monitor='val_loss', verbose=1, save_best_only=False, save_weights_only=False, mode='auto', period=1)\n",
    "\n",
    "LR = ReduceLROnPlateau(monitor='val_loss', factor=0.5, patience=2, verbose=1, mode='min', epsilon=0.0001, cooldown=0, min_lr=0.00001)\n",
    "callbacks_list = [checkpoint, LR]"
   ]
  },
  {
   "cell_type": "code",
   "execution_count": 26,
   "metadata": {
    "executionInfo": {
     "elapsed": 504,
     "status": "ok",
     "timestamp": 1698604834561,
     "user": {
      "displayName": "Akhilesh Dwivedi",
      "userId": "14119964615119755673"
     },
     "user_tz": -330
    },
    "id": "e1HAmsoSe6Iz"
   },
   "outputs": [],
   "source": [
    "if (num_train_sequences%batch_size) == 0:\n",
    "    steps_per_epoch = int(num_train_sequences/batch_size)\n",
    "else:\n",
    "    steps_per_epoch = (num_train_sequences//batch_size) + 1\n",
    "\n",
    "if (num_val_sequences%batch_size) == 0:\n",
    "    validation_steps = int(num_val_sequences/batch_size)\n",
    "else:\n",
    "    validation_steps = (num_val_sequences//batch_size) + 1"
   ]
  },
  {
   "cell_type": "code",
   "execution_count": 27,
   "metadata": {
    "colab": {
     "base_uri": "https://localhost:8080/"
    },
    "executionInfo": {
     "elapsed": 3759388,
     "status": "ok",
     "timestamp": 1698608635519,
     "user": {
      "displayName": "Akhilesh Dwivedi",
      "userId": "14119964615119755673"
     },
     "user_tz": -330
    },
    "id": "CnAguyw0GMlH",
    "outputId": "2dfa1d1c-458e-46c0-feae-afbd86ec48f1"
   },
   "outputs": [
    {
     "name": "stdout",
     "output_type": "stream",
     "text": [
      "Source path =  gdrive/MyDrive/Colab Notebooks/Project_data/train ; batch size = 16\n",
      "Epoch 1/25\n",
      "42/42 [==============================] - ETA: 0s - loss: 4.4107 - categorical_accuracy: 0.3409 Source path =  gdrive/MyDrive/Colab Notebooks/Project_data/val ; batch size = 16\n",
      "\n",
      "Epoch 1: saving model to model_init_2023-10-2917_17_09.681714/model-00001-4.41069-0.34087-6.26626-0.24000.h5\n",
      "42/42 [==============================] - 709s 17s/step - loss: 4.4107 - categorical_accuracy: 0.3409 - val_loss: 6.2663 - val_categorical_accuracy: 0.2400 - lr: 0.0100\n",
      "Epoch 2/25\n",
      "42/42 [==============================] - ETA: 0s - loss: 1.8851 - categorical_accuracy: 0.3967\n",
      "Epoch 2: saving model to model_init_2023-10-2917_17_09.681714/model-00002-1.88515-0.39668-2.66274-0.31000.h5\n",
      "42/42 [==============================] - 129s 3s/step - loss: 1.8851 - categorical_accuracy: 0.3967 - val_loss: 2.6627 - val_categorical_accuracy: 0.3100 - lr: 0.0100\n",
      "Epoch 3/25\n",
      "42/42 [==============================] - ETA: 0s - loss: 1.4510 - categorical_accuracy: 0.4932\n",
      "Epoch 3: saving model to model_init_2023-10-2917_17_09.681714/model-00003-1.45098-0.49321-1.37272-0.45000.h5\n",
      "42/42 [==============================] - 139s 3s/step - loss: 1.4510 - categorical_accuracy: 0.4932 - val_loss: 1.3727 - val_categorical_accuracy: 0.4500 - lr: 0.0100\n",
      "Epoch 4/25\n",
      "42/42 [==============================] - ETA: 0s - loss: 1.3141 - categorical_accuracy: 0.5324\n",
      "Epoch 4: saving model to model_init_2023-10-2917_17_09.681714/model-00004-1.31405-0.53243-1.08910-0.55000.h5\n",
      "42/42 [==============================] - 128s 3s/step - loss: 1.3141 - categorical_accuracy: 0.5324 - val_loss: 1.0891 - val_categorical_accuracy: 0.5500 - lr: 0.0100\n",
      "Epoch 5/25\n",
      "42/42 [==============================] - ETA: 0s - loss: 1.1891 - categorical_accuracy: 0.5792\n",
      "Epoch 5: saving model to model_init_2023-10-2917_17_09.681714/model-00005-1.18907-0.57919-0.90047-0.61000.h5\n",
      "42/42 [==============================] - 111s 3s/step - loss: 1.1891 - categorical_accuracy: 0.5792 - val_loss: 0.9005 - val_categorical_accuracy: 0.6100 - lr: 0.0100\n",
      "Epoch 6/25\n",
      "42/42 [==============================] - ETA: 0s - loss: 1.0827 - categorical_accuracy: 0.6154\n",
      "Epoch 6: saving model to model_init_2023-10-2917_17_09.681714/model-00006-1.08270-0.61538-1.66053-0.50000.h5\n",
      "42/42 [==============================] - 133s 3s/step - loss: 1.0827 - categorical_accuracy: 0.6154 - val_loss: 1.6605 - val_categorical_accuracy: 0.5000 - lr: 0.0100\n",
      "Epoch 7/25\n",
      "42/42 [==============================] - ETA: 0s - loss: 0.9727 - categorical_accuracy: 0.6667\n",
      "Epoch 7: saving model to model_init_2023-10-2917_17_09.681714/model-00007-0.97269-0.66667-1.31670-0.54000.h5\n",
      "\n",
      "Epoch 7: ReduceLROnPlateau reducing learning rate to 0.004999999888241291.\n",
      "42/42 [==============================] - 121s 3s/step - loss: 0.9727 - categorical_accuracy: 0.6667 - val_loss: 1.3167 - val_categorical_accuracy: 0.5400 - lr: 0.0100\n",
      "Epoch 8/25\n",
      "42/42 [==============================] - ETA: 0s - loss: 0.7642 - categorical_accuracy: 0.6998\n",
      "Epoch 8: saving model to model_init_2023-10-2917_17_09.681714/model-00008-0.76425-0.69985-0.87424-0.65000.h5\n",
      "42/42 [==============================] - 110s 3s/step - loss: 0.7642 - categorical_accuracy: 0.6998 - val_loss: 0.8742 - val_categorical_accuracy: 0.6500 - lr: 0.0050\n",
      "Epoch 9/25\n",
      "42/42 [==============================] - ETA: 0s - loss: 0.6665 - categorical_accuracy: 0.7451\n",
      "Epoch 9: saving model to model_init_2023-10-2917_17_09.681714/model-00009-0.66649-0.74510-0.97914-0.61000.h5\n",
      "42/42 [==============================] - 124s 3s/step - loss: 0.6665 - categorical_accuracy: 0.7451 - val_loss: 0.9791 - val_categorical_accuracy: 0.6100 - lr: 0.0050\n",
      "Epoch 10/25\n",
      "42/42 [==============================] - ETA: 0s - loss: 0.6660 - categorical_accuracy: 0.7421\n",
      "Epoch 10: saving model to model_init_2023-10-2917_17_09.681714/model-00010-0.66602-0.74208-1.06518-0.59000.h5\n",
      "\n",
      "Epoch 10: ReduceLROnPlateau reducing learning rate to 0.0024999999441206455.\n",
      "42/42 [==============================] - 121s 3s/step - loss: 0.6660 - categorical_accuracy: 0.7421 - val_loss: 1.0652 - val_categorical_accuracy: 0.5900 - lr: 0.0050\n",
      "Epoch 11/25\n",
      "42/42 [==============================] - ETA: 0s - loss: 0.5401 - categorical_accuracy: 0.7949\n",
      "Epoch 11: saving model to model_init_2023-10-2917_17_09.681714/model-00011-0.54013-0.79487-0.92796-0.66000.h5\n",
      "42/42 [==============================] - 132s 3s/step - loss: 0.5401 - categorical_accuracy: 0.7949 - val_loss: 0.9280 - val_categorical_accuracy: 0.6600 - lr: 0.0025\n",
      "Epoch 12/25\n",
      "42/42 [==============================] - ETA: 0s - loss: 0.5104 - categorical_accuracy: 0.7919\n",
      "Epoch 12: saving model to model_init_2023-10-2917_17_09.681714/model-00012-0.51036-0.79186-0.60529-0.78000.h5\n",
      "42/42 [==============================] - 120s 3s/step - loss: 0.5104 - categorical_accuracy: 0.7919 - val_loss: 0.6053 - val_categorical_accuracy: 0.7800 - lr: 0.0025\n",
      "Epoch 13/25\n",
      "42/42 [==============================] - ETA: 0s - loss: 0.4471 - categorical_accuracy: 0.8235\n",
      "Epoch 13: saving model to model_init_2023-10-2917_17_09.681714/model-00013-0.44706-0.82353-0.95517-0.68000.h5\n",
      "42/42 [==============================] - 110s 3s/step - loss: 0.4471 - categorical_accuracy: 0.8235 - val_loss: 0.9552 - val_categorical_accuracy: 0.6800 - lr: 0.0025\n",
      "Epoch 14/25\n",
      "42/42 [==============================] - ETA: 0s - loss: 0.4569 - categorical_accuracy: 0.8145\n",
      "Epoch 14: saving model to model_init_2023-10-2917_17_09.681714/model-00014-0.45686-0.81448-0.83915-0.73000.h5\n",
      "\n",
      "Epoch 14: ReduceLROnPlateau reducing learning rate to 0.0012499999720603228.\n",
      "42/42 [==============================] - 115s 3s/step - loss: 0.4569 - categorical_accuracy: 0.8145 - val_loss: 0.8392 - val_categorical_accuracy: 0.7300 - lr: 0.0025\n",
      "Epoch 15/25\n",
      "42/42 [==============================] - ETA: 0s - loss: 0.4271 - categorical_accuracy: 0.8356\n",
      "Epoch 15: saving model to model_init_2023-10-2917_17_09.681714/model-00015-0.42709-0.83560-0.76899-0.72000.h5\n",
      "42/42 [==============================] - 122s 3s/step - loss: 0.4271 - categorical_accuracy: 0.8356 - val_loss: 0.7690 - val_categorical_accuracy: 0.7200 - lr: 0.0012\n",
      "Epoch 16/25\n",
      "42/42 [==============================] - ETA: 0s - loss: 0.3983 - categorical_accuracy: 0.8311\n",
      "Epoch 16: saving model to model_init_2023-10-2917_17_09.681714/model-00016-0.39834-0.83107-0.71435-0.73000.h5\n",
      "\n",
      "Epoch 16: ReduceLROnPlateau reducing learning rate to 0.0006249999860301614.\n",
      "42/42 [==============================] - 129s 3s/step - loss: 0.3983 - categorical_accuracy: 0.8311 - val_loss: 0.7143 - val_categorical_accuracy: 0.7300 - lr: 0.0012\n",
      "Epoch 17/25\n",
      "42/42 [==============================] - ETA: 0s - loss: 0.3615 - categorical_accuracy: 0.8582\n",
      "Epoch 17: saving model to model_init_2023-10-2917_17_09.681714/model-00017-0.36149-0.85822-0.76253-0.72000.h5\n",
      "42/42 [==============================] - 119s 3s/step - loss: 0.3615 - categorical_accuracy: 0.8582 - val_loss: 0.7625 - val_categorical_accuracy: 0.7200 - lr: 6.2500e-04\n",
      "Epoch 18/25\n",
      "42/42 [==============================] - ETA: 0s - loss: 0.4090 - categorical_accuracy: 0.8386\n",
      "Epoch 18: saving model to model_init_2023-10-2917_17_09.681714/model-00018-0.40903-0.83861-0.65303-0.74000.h5\n",
      "\n",
      "Epoch 18: ReduceLROnPlateau reducing learning rate to 0.0003124999930150807.\n",
      "42/42 [==============================] - 123s 3s/step - loss: 0.4090 - categorical_accuracy: 0.8386 - val_loss: 0.6530 - val_categorical_accuracy: 0.7400 - lr: 6.2500e-04\n",
      "Epoch 19/25\n",
      "42/42 [==============================] - ETA: 0s - loss: 0.3528 - categorical_accuracy: 0.8522\n",
      "Epoch 19: saving model to model_init_2023-10-2917_17_09.681714/model-00019-0.35278-0.85219-0.62788-0.76000.h5\n",
      "42/42 [==============================] - 124s 3s/step - loss: 0.3528 - categorical_accuracy: 0.8522 - val_loss: 0.6279 - val_categorical_accuracy: 0.7600 - lr: 3.1250e-04\n",
      "Epoch 20/25\n",
      "42/42 [==============================] - ETA: 0s - loss: 0.4040 - categorical_accuracy: 0.8356\n",
      "Epoch 20: saving model to model_init_2023-10-2917_17_09.681714/model-00020-0.40396-0.83560-0.79871-0.72000.h5\n",
      "\n",
      "Epoch 20: ReduceLROnPlateau reducing learning rate to 0.00015624999650754035.\n",
      "42/42 [==============================] - 139s 3s/step - loss: 0.4040 - categorical_accuracy: 0.8356 - val_loss: 0.7987 - val_categorical_accuracy: 0.7200 - lr: 3.1250e-04\n",
      "Epoch 21/25\n",
      "42/42 [==============================] - ETA: 0s - loss: 0.3575 - categorical_accuracy: 0.8839\n",
      "Epoch 21: saving model to model_init_2023-10-2917_17_09.681714/model-00021-0.35751-0.88386-0.73544-0.72000.h5\n",
      "42/42 [==============================] - 134s 3s/step - loss: 0.3575 - categorical_accuracy: 0.8839 - val_loss: 0.7354 - val_categorical_accuracy: 0.7200 - lr: 1.5625e-04\n",
      "Epoch 22/25\n",
      "42/42 [==============================] - ETA: 0s - loss: 0.3570 - categorical_accuracy: 0.8718\n",
      "Epoch 22: saving model to model_init_2023-10-2917_17_09.681714/model-00022-0.35697-0.87179-0.74236-0.72000.h5\n",
      "\n",
      "Epoch 22: ReduceLROnPlateau reducing learning rate to 7.812499825377017e-05.\n",
      "42/42 [==============================] - 129s 3s/step - loss: 0.3570 - categorical_accuracy: 0.8718 - val_loss: 0.7424 - val_categorical_accuracy: 0.7200 - lr: 1.5625e-04\n",
      "Epoch 23/25\n",
      "42/42 [==============================] - ETA: 0s - loss: 0.3386 - categorical_accuracy: 0.8643\n",
      "Epoch 23: saving model to model_init_2023-10-2917_17_09.681714/model-00023-0.33859-0.86425-0.67368-0.76000.h5\n",
      "42/42 [==============================] - 122s 3s/step - loss: 0.3386 - categorical_accuracy: 0.8643 - val_loss: 0.6737 - val_categorical_accuracy: 0.7600 - lr: 7.8125e-05\n",
      "Epoch 24/25\n",
      "42/42 [==============================] - ETA: 0s - loss: 0.3171 - categorical_accuracy: 0.8688\n",
      "Epoch 24: saving model to model_init_2023-10-2917_17_09.681714/model-00024-0.31714-0.86878-0.80351-0.71000.h5\n",
      "\n",
      "Epoch 24: ReduceLROnPlateau reducing learning rate to 3.9062499126885086e-05.\n",
      "42/42 [==============================] - 111s 3s/step - loss: 0.3171 - categorical_accuracy: 0.8688 - val_loss: 0.8035 - val_categorical_accuracy: 0.7100 - lr: 7.8125e-05\n",
      "Epoch 25/25\n",
      "42/42 [==============================] - ETA: 0s - loss: 0.3650 - categorical_accuracy: 0.8507\n",
      "Epoch 25: saving model to model_init_2023-10-2917_17_09.681714/model-00025-0.36500-0.85068-0.81970-0.71000.h5\n",
      "42/42 [==============================] - 136s 3s/step - loss: 0.3650 - categorical_accuracy: 0.8507 - val_loss: 0.8197 - val_categorical_accuracy: 0.7100 - lr: 3.9062e-05\n"
     ]
    }
   ],
   "source": [
    "history3 = model.fit_generator(train_generator, steps_per_epoch=steps_per_epoch, epochs=num_epochs, verbose=1,\n",
    "                    callbacks=callbacks_list, validation_data=val_generator,\n",
    "                    validation_steps=validation_steps, class_weight=None, workers=1, initial_epoch=0)"
   ]
  },
  {
   "cell_type": "code",
   "execution_count": 29,
   "metadata": {
    "colab": {
     "base_uri": "https://localhost:8080/"
    },
    "executionInfo": {
     "elapsed": 426,
     "status": "ok",
     "timestamp": 1698608645006,
     "user": {
      "displayName": "Akhilesh Dwivedi",
      "userId": "14119964615119755673"
     },
     "user_tz": -330
    },
    "id": "XK4dxiWA9nIa",
    "outputId": "0eee4b27-7155-4520-aa6e-729af7184ac0"
   },
   "outputs": [
    {
     "name": "stdout",
     "output_type": "stream",
     "text": [
      "Total Params: 15021653\n"
     ]
    }
   ],
   "source": [
    "print(\"Total Params:\", model.count_params())"
   ]
  },
  {
   "cell_type": "code",
   "execution_count": 30,
   "metadata": {
    "colab": {
     "base_uri": "https://localhost:8080/",
     "height": 716
    },
    "executionInfo": {
     "elapsed": 1697,
     "status": "ok",
     "timestamp": 1698608655000,
     "user": {
      "displayName": "Akhilesh Dwivedi",
      "userId": "14119964615119755673"
     },
     "user_tz": -330
    },
    "id": "nRQzoIJAGMob",
    "outputId": "d77470b0-b9b6-48a8-c82e-95ff13b4e18a"
   },
   "outputs": [
    {
     "data": {
      "text/plain": [
       "<Figure size 1000x1000 with 0 Axes>"
      ]
     },
     "metadata": {},
     "output_type": "display_data"
    },
    {
     "data": {
      "image/png": "[encoded data removed]",
      "text/plain": [
       "<Figure size 800x800 with 2 Axes>"
      ]
     },
     "metadata": {},
     "output_type": "display_data"
    }
   ],
   "source": [
    "import matplotlib.pyplot as plt\n",
    "\n",
    "plt.figure(figsize = (10,10))\n",
    "\n",
    "acc = history3.history['categorical_accuracy']\n",
    "val_acc = history3.history['val_categorical_accuracy']\n",
    "\n",
    "loss = history3.history['loss']\n",
    "val_loss = history3.history['val_loss']\n",
    "\n",
    "epochs_range = range(num_epochs)\n",
    "\n",
    "plt.figure(figsize=(8, 8))\n",
    "plt.subplot(1, 2, 1)\n",
    "plt.plot(epochs_range, acc, label='Training Accuracy')\n",
    "plt.plot(epochs_range, val_acc, label='Validation Accuracy')\n",
    "plt.legend(loc='lower right')\n",
    "plt.title('Training and Validation Accuracy')\n",
    "\n",
    "plt.subplot(1, 2, 2)\n",
    "plt.plot(epochs_range, loss, label='Training Loss')\n",
    "plt.plot(epochs_range, val_loss, label='Validation Loss')\n",
    "plt.legend(loc='upper right')\n",
    "plt.title('Training and Validation Loss')\n",
    "plt.show()"
   ]
  },
  {
   "cell_type": "markdown",
   "metadata": {
    "id": "p7DEt-MFYNqZ"
   },
   "source": [
    "## Creating the fourth model for a better performance\n",
    "### Model 4\n",
    "### using CNN +RNN"
   ]
  },
  {
   "cell_type": "code",
   "execution_count": 8,
   "metadata": {
    "executionInfo": {
     "elapsed": 412,
     "status": "ok",
     "timestamp": 1698599810359,
     "user": {
      "displayName": "Akhilesh Dwivedi",
      "userId": "14119964615119755673"
     },
     "user_tz": -330
    },
    "id": "oH0Ir3dkYNzm"
   },
   "outputs": [],
   "source": [
    "def generator(source_path, folder_list, batch_size):\n",
    "    print( 'Source path = ', source_path, '; batch size =', batch_size)\n",
    "    img_idx = [0,2,4,6,8,10,12,14,16,18,20,22,24,26,28]\n",
    "    while True:\n",
    "        t = np.random.permutation(folder_list)\n",
    "        num_batches = int(len(t)/batch_size)\n",
    "        for batch in range(num_batches):\n",
    "            batch_data = np.zeros((batch_size,15,120,120,3))\n",
    "            batch_labels = np.zeros((batch_size,5))\n",
    "            for folder in range(batch_size):\n",
    "                imgs = os.listdir(source_path+'/'+ t[folder + (batch*batch_size)].split(';')[0])\n",
    "                for idx,item in enumerate(img_idx):\n",
    "                    if item < len(imgs):\n",
    "                      image = imread(source_path+'/'+ t[folder + (batch*batch_size)].strip().split(';')[0]+'/'+imgs[item]).astype(np.float32)\n",
    "                      if image.shape[1] == 160:\n",
    "                          image = image[:,20:140,:].astype(np.float32)\n",
    "                      else:\n",
    "                          image = resize(image,(120,120)).astype(np.float32)\n",
    "\n",
    "                      batch_data[folder,idx,:,:,0] = image[:,:,0] - 104\n",
    "                      batch_data[folder,idx,:,:,1] = image[:,:,1] - 117\n",
    "                      batch_data[folder,idx,:,:,2] = image[:,:,2] - 123\n",
    "\n",
    "                batch_labels[folder, int(t[folder + (batch*batch_size)].strip().split(';')[2])] = 1\n",
    "            yield batch_data, batch_labels\n",
    "\n",
    "        if (len(t)%batch_size) != 0:\n",
    "            batch_data = np.zeros((len(t)%batch_size,15,120,120,3))\n",
    "            batch_labels = np.zeros((len(t)%batch_size,5))\n",
    "            for folder in range(len(t)%batch_size):\n",
    "                imgs = os.listdir(source_path+'/'+ t[folder + (num_batches*batch_size)].split(';')[0])\n",
    "                for idx,item in enumerate(img_idx):\n",
    "                    if item < len(imgs):\n",
    "                      image = imread(source_path+'/'+ t[folder + (num_batches*batch_size)].strip().split(';')[0]+'/'+imgs[item]).astype(np.float32)\n",
    "                      if image.shape[1] == 160:\n",
    "                          image = image[:,20:140,:].astype(np.float32)\n",
    "                      else:\n",
    "                          image = resize(image,(120,120)).astype(np.float32)\n",
    "\n",
    "                      batch_data[folder,idx,:,:,0] = image[:,:,0] - 104\n",
    "                      batch_data[folder,idx,:,:,1] = image[:,:,1] - 117\n",
    "                      batch_data[folder,idx,:,:,2] = image[:,:,2] - 123\n",
    "\n",
    "                batch_labels[folder, int(t[folder + (num_batches*batch_size)].strip().split(';')[2])] = 1\n",
    "\n",
    "            yield batch_data, batch_labels"
   ]
  },
  {
   "cell_type": "code",
   "execution_count": 9,
   "metadata": {
    "colab": {
     "base_uri": "https://localhost:8080/"
    },
    "executionInfo": {
     "elapsed": 429,
     "status": "ok",
     "timestamp": 1698599829932,
     "user": {
      "displayName": "Akhilesh Dwivedi",
      "userId": "14119964615119755673"
     },
     "user_tz": -330
    },
    "id": "A0uoocKAGMrV",
    "outputId": "cb7d55c9-073b-4ea4-c4c0-e4caab0e316a"
   },
   "outputs": [
    {
     "name": "stdout",
     "output_type": "stream",
     "text": [
      "# training sequences = 663\n",
      "# validation sequences = 100\n",
      "# epochs = 20\n"
     ]
    }
   ],
   "source": [
    "curr_dt_time = datetime.datetime.now()\n",
    "train_path = project_folder + '/' + 'train' #'Project_data\\\\train'\n",
    "val_path = project_folder + '/' + 'val'  #'Project_data\\\\val'\n",
    "num_train_sequences = len(train_doc)\n",
    "print('# training sequences =', num_train_sequences)\n",
    "num_val_sequences = len(val_doc)\n",
    "print('# validation sequences =', num_val_sequences)\n",
    "num_epochs = 20\n",
    "print ('# epochs =', num_epochs)"
   ]
  },
  {
   "cell_type": "code",
   "execution_count": 28,
   "metadata": {
    "executionInfo": {
     "elapsed": 1504,
     "status": "ok",
     "timestamp": 1698608638944,
     "user": {
      "displayName": "Akhilesh Dwivedi",
      "userId": "14119964615119755673"
     },
     "user_tz": -330
    },
    "id": "9kdzqHzyGMub"
   },
   "outputs": [],
   "source": [
    "from keras.models import Sequential, Model\n",
    "from keras.layers import Dense, GRU, Dropout, Flatten, TimeDistributed\n",
    "from keras.callbacks import ModelCheckpoint, ReduceLROnPlateau\n",
    "from keras import optimizers\n",
    "from keras.applications.vgg16 import VGG16\n",
    "\n",
    "base_model = VGG16(include_top=False, weights='imagenet', input_shape=(120,120,3))\n",
    "x = base_model.output\n",
    "x = Flatten()(x)\n",
    "#x.add(Dropout(0.5))\n",
    "features = Dense(64, activation='relu')(x)\n",
    "conv_model = Model(inputs=base_model.input, outputs=features)\n",
    "\n",
    "for layer in base_model.layers:\n",
    "    layer.trainable = False\n",
    "\n",
    "model = Sequential()\n",
    "model.add(TimeDistributed(conv_model, input_shape=(15,120,120,3)))\n",
    "model.add(GRU(32, return_sequences=True))\n",
    "model.add(GRU(16))\n",
    "model.add(Dropout(0.5))\n",
    "model.add(Dense(8, activation='relu'))\n",
    "model.add(Dense(5, activation='softmax'))"
   ]
  },
  {
   "cell_type": "code",
   "execution_count": 11,
   "metadata": {
    "colab": {
     "base_uri": "https://localhost:8080/"
    },
    "executionInfo": {
     "elapsed": 922,
     "status": "ok",
     "timestamp": 1698599848437,
     "user": {
      "displayName": "Akhilesh Dwivedi",
      "userId": "14119964615119755673"
     },
     "user_tz": -330
    },
    "id": "OeVIf-EPGMx8",
    "outputId": "ec24e0a3-1f1b-4c71-e2f7-139992f41525"
   },
   "outputs": [
    {
     "name": "stdout",
     "output_type": "stream",
     "text": [
      "Model: \"sequential\"\n",
      "_________________________________________________________________\n",
      " Layer (type)                Output Shape              Param #   \n",
      "=================================================================\n",
      " time_distributed (TimeDist  (None, 15, 64)            15009664  \n",
      " ributed)                                                        \n",
      "                                                                 \n",
      " gru (GRU)                   (None, 15, 32)            9408      \n",
      "                                                                 \n",
      " gru_1 (GRU)                 (None, 16)                2400      \n",
      "                                                                 \n",
      " dropout (Dropout)           (None, 16)                0         \n",
      "                                                                 \n",
      " dense_1 (Dense)             (None, 8)                 136       \n",
      "                                                                 \n",
      " dense_2 (Dense)             (None, 5)                 45        \n",
      "                                                                 \n",
      "=================================================================\n",
      "Total params: 15021653 (57.30 MB)\n",
      "Trainable params: 306965 (1.17 MB)\n",
      "Non-trainable params: 14714688 (56.13 MB)\n",
      "_________________________________________________________________\n",
      "None\n"
     ]
    }
   ],
   "source": [
    "optimiser = 'sgd'\n",
    "model.compile(optimizer=optimiser, loss='categorical_crossentropy', metrics=['categorical_accuracy'])\n",
    "print (model.summary())"
   ]
  },
  {
   "cell_type": "code",
   "execution_count": 12,
   "metadata": {
    "executionInfo": {
     "elapsed": 394,
     "status": "ok",
     "timestamp": 1698599859219,
     "user": {
      "displayName": "Akhilesh Dwivedi",
      "userId": "14119964615119755673"
     },
     "user_tz": -330
    },
    "id": "uRb-pSNDavsQ"
   },
   "outputs": [],
   "source": [
    "batch_size = 16"
   ]
  },
  {
   "cell_type": "code",
   "execution_count": 13,
   "metadata": {
    "executionInfo": {
     "elapsed": 419,
     "status": "ok",
     "timestamp": 1698599863407,
     "user": {
      "displayName": "Akhilesh Dwivedi",
      "userId": "14119964615119755673"
     },
     "user_tz": -330
    },
    "id": "NhzkzO_RaHdq"
   },
   "outputs": [],
   "source": [
    "train_generator = generator(train_path, train_doc, batch_size)\n",
    "val_generator = generator(val_path, val_doc, batch_size)"
   ]
  },
  {
   "cell_type": "code",
   "execution_count": 14,
   "metadata": {
    "colab": {
     "base_uri": "https://localhost:8080/"
    },
    "executionInfo": {
     "elapsed": 516,
     "status": "ok",
     "timestamp": 1698599867829,
     "user": {
      "displayName": "Akhilesh Dwivedi",
      "userId": "14119964615119755673"
     },
     "user_tz": -330
    },
    "id": "y0kBiXuQaHgv",
    "outputId": "350c0aca-0cc7-4ac7-c443-515a8eb85ff0"
   },
   "outputs": [
    {
     "name": "stderr",
     "output_type": "stream",
     "text": [
      "WARNING:tensorflow:`period` argument is deprecated. Please use `save_freq` to specify the frequency in number of batches seen.\n",
      "WARNING:tensorflow:`epsilon` argument is deprecated and will be removed, use `min_delta` instead.\n"
     ]
    }
   ],
   "source": [
    "model_name = 'model_init_conv_lstm' + '_' + str(curr_dt_time).replace(' ','').replace(':','_') + '/'\n",
    "\n",
    "if not os.path.exists(model_name):\n",
    "    os.mkdir(model_name)\n",
    "\n",
    "filepath = model_name + 'model-{epoch:05d}-{loss:.5f}-{categorical_accuracy:.5f}-{val_loss:.5f}-{val_categorical_accuracy:.5f}.h5'\n",
    "\n",
    "checkpoint = ModelCheckpoint(filepath, monitor='val_loss', verbose=1, save_best_only=False, save_weights_only=False, mode='auto', period=1)\n",
    "\n",
    "LR = ReduceLROnPlateau(monitor='val_loss', factor=0.5, patience=2, verbose=1, mode='min', epsilon=0.0001, cooldown=0, min_lr=0.00001)\n",
    "callbacks_list = [checkpoint, LR]"
   ]
  },
  {
   "cell_type": "code",
   "execution_count": 15,
   "metadata": {
    "executionInfo": {
     "elapsed": 421,
     "status": "ok",
     "timestamp": 1698599876307,
     "user": {
      "displayName": "Akhilesh Dwivedi",
      "userId": "14119964615119755673"
     },
     "user_tz": -330
    },
    "id": "rQL438XBaHj4"
   },
   "outputs": [],
   "source": [
    "if (num_train_sequences%batch_size) == 0:\n",
    "    steps_per_epoch = int(num_train_sequences/batch_size)\n",
    "else:\n",
    "    steps_per_epoch = (num_train_sequences//batch_size) + 1\n",
    "\n",
    "if (num_val_sequences%batch_size) == 0:\n",
    "    validation_steps = int(num_val_sequences/batch_size)\n",
    "else:\n",
    "    validation_steps = (num_val_sequences//batch_size) + 1"
   ]
  },
  {
   "cell_type": "code",
   "execution_count": 16,
   "metadata": {
    "colab": {
     "base_uri": "https://localhost:8080/"
    },
    "executionInfo": {
     "elapsed": 4712745,
     "status": "ok",
     "timestamp": 1698604593549,
     "user": {
      "displayName": "Akhilesh Dwivedi",
      "userId": "14119964615119755673"
     },
     "user_tz": -330
    },
    "id": "Km-rxRksaHnK",
    "outputId": "141d7343-653d-4dad-bc5b-deb4a345ef83"
   },
   "outputs": [
    {
     "name": "stdout",
     "output_type": "stream",
     "text": [
      "Source path =  gdrive/MyDrive/Colab Notebooks/Project_data/train ; batch size = 16\n",
      "Epoch 1/20\n",
      "42/42 [==============================] - ETA: 0s - loss: 1.6404 - categorical_accuracy: 0.2051  Source path =  gdrive/MyDrive/Colab Notebooks/Project_data/val ; batch size = 16\n",
      "\n",
      "Epoch 1: saving model to model_init_conv_lstm_2023-10-2917_17_09.681714/model-00001-1.64038-0.20513-1.52383-0.27000.h5\n",
      "42/42 [==============================] - 3124s 76s/step - loss: 1.6404 - categorical_accuracy: 0.2051 - val_loss: 1.5238 - val_categorical_accuracy: 0.2700 - lr: 0.0100\n",
      "Epoch 2/20\n",
      "42/42 [==============================] - ETA: 0s - loss: 1.5912 - categorical_accuracy: 0.2202\n",
      "Epoch 2: saving model to model_init_conv_lstm_2023-10-2917_17_09.681714/model-00002-1.59122-0.22021-1.49676-0.37000.h5\n",
      "42/42 [==============================] - 86s 2s/step - loss: 1.5912 - categorical_accuracy: 0.2202 - val_loss: 1.4968 - val_categorical_accuracy: 0.3700 - lr: 0.0100\n",
      "Epoch 3/20\n",
      "42/42 [==============================] - ETA: 0s - loss: 1.5060 - categorical_accuracy: 0.3092\n",
      "Epoch 3: saving model to model_init_conv_lstm_2023-10-2917_17_09.681714/model-00003-1.50602-0.30920-1.48907-0.32000.h5\n",
      "42/42 [==============================] - 83s 2s/step - loss: 1.5060 - categorical_accuracy: 0.3092 - val_loss: 1.4891 - val_categorical_accuracy: 0.3200 - lr: 0.0100\n",
      "Epoch 4/20\n",
      "42/42 [==============================] - ETA: 0s - loss: 1.4503 - categorical_accuracy: 0.3786\n",
      "Epoch 4: saving model to model_init_conv_lstm_2023-10-2917_17_09.681714/model-00004-1.45029-0.37858-1.45812-0.38000.h5\n",
      "42/42 [==============================] - 80s 2s/step - loss: 1.4503 - categorical_accuracy: 0.3786 - val_loss: 1.4581 - val_categorical_accuracy: 0.3800 - lr: 0.0100\n",
      "Epoch 5/20\n",
      "42/42 [==============================] - ETA: 0s - loss: 1.3917 - categorical_accuracy: 0.4027\n",
      "Epoch 5: saving model to model_init_conv_lstm_2023-10-2917_17_09.681714/model-00005-1.39174-0.40271-1.35174-0.42000.h5\n",
      "42/42 [==============================] - 79s 2s/step - loss: 1.3917 - categorical_accuracy: 0.4027 - val_loss: 1.3517 - val_categorical_accuracy: 0.4200 - lr: 0.0100\n",
      "Epoch 6/20\n",
      "42/42 [==============================] - ETA: 0s - loss: 1.3109 - categorical_accuracy: 0.4555\n",
      "Epoch 6: saving model to model_init_conv_lstm_2023-10-2917_17_09.681714/model-00006-1.31094-0.45551-1.19524-0.55000.h5\n",
      "42/42 [==============================] - 80s 2s/step - loss: 1.3109 - categorical_accuracy: 0.4555 - val_loss: 1.1952 - val_categorical_accuracy: 0.5500 - lr: 0.0100\n",
      "Epoch 7/20\n",
      "42/42 [==============================] - ETA: 0s - loss: 1.2055 - categorical_accuracy: 0.4962\n",
      "Epoch 7: saving model to model_init_conv_lstm_2023-10-2917_17_09.681714/model-00007-1.20548-0.49623-1.20938-0.51000.h5\n",
      "42/42 [==============================] - 78s 2s/step - loss: 1.2055 - categorical_accuracy: 0.4962 - val_loss: 1.2094 - val_categorical_accuracy: 0.5100 - lr: 0.0100\n",
      "Epoch 8/20\n",
      "42/42 [==============================] - ETA: 0s - loss: 1.1246 - categorical_accuracy: 0.5520\n",
      "Epoch 8: saving model to model_init_conv_lstm_2023-10-2917_17_09.681714/model-00008-1.12455-0.55204-1.14729-0.57000.h5\n",
      "42/42 [==============================] - 81s 2s/step - loss: 1.1246 - categorical_accuracy: 0.5520 - val_loss: 1.1473 - val_categorical_accuracy: 0.5700 - lr: 0.0100\n",
      "Epoch 9/20\n",
      "42/42 [==============================] - ETA: 0s - loss: 1.0735 - categorical_accuracy: 0.5716\n",
      "Epoch 9: saving model to model_init_conv_lstm_2023-10-2917_17_09.681714/model-00009-1.07353-0.57164-1.05166-0.55000.h5\n",
      "42/42 [==============================] - 77s 2s/step - loss: 1.0735 - categorical_accuracy: 0.5716 - val_loss: 1.0517 - val_categorical_accuracy: 0.5500 - lr: 0.0100\n",
      "Epoch 10/20\n",
      "42/42 [==============================] - ETA: 0s - loss: 0.9962 - categorical_accuracy: 0.6048\n",
      "Epoch 10: saving model to model_init_conv_lstm_2023-10-2917_17_09.681714/model-00010-0.99620-0.60483-1.06807-0.52000.h5\n",
      "42/42 [==============================] - 99s 2s/step - loss: 0.9962 - categorical_accuracy: 0.6048 - val_loss: 1.0681 - val_categorical_accuracy: 0.5200 - lr: 0.0100\n",
      "Epoch 11/20\n",
      "42/42 [==============================] - ETA: 0s - loss: 0.9367 - categorical_accuracy: 0.6199\n",
      "Epoch 11: saving model to model_init_conv_lstm_2023-10-2917_17_09.681714/model-00011-0.93668-0.61991-1.17787-0.51000.h5\n",
      "\n",
      "Epoch 11: ReduceLROnPlateau reducing learning rate to 0.004999999888241291.\n",
      "42/42 [==============================] - 65s 2s/step - loss: 0.9367 - categorical_accuracy: 0.6199 - val_loss: 1.1779 - val_categorical_accuracy: 0.5100 - lr: 0.0100\n",
      "Epoch 12/20\n",
      "42/42 [==============================] - ETA: 0s - loss: 0.8715 - categorical_accuracy: 0.6531\n",
      "Epoch 12: saving model to model_init_conv_lstm_2023-10-2917_17_09.681714/model-00012-0.87153-0.65309-0.93013-0.64000.h5\n",
      "42/42 [==============================] - 83s 2s/step - loss: 0.8715 - categorical_accuracy: 0.6531 - val_loss: 0.9301 - val_categorical_accuracy: 0.6400 - lr: 0.0050\n",
      "Epoch 13/20\n",
      "42/42 [==============================] - ETA: 0s - loss: 0.8206 - categorical_accuracy: 0.6953\n",
      "Epoch 13: saving model to model_init_conv_lstm_2023-10-2917_17_09.681714/model-00013-0.82062-0.69532-0.96787-0.64000.h5\n",
      "42/42 [==============================] - 78s 2s/step - loss: 0.8206 - categorical_accuracy: 0.6953 - val_loss: 0.9679 - val_categorical_accuracy: 0.6400 - lr: 0.0050\n",
      "Epoch 14/20\n",
      "42/42 [==============================] - ETA: 0s - loss: 0.7907 - categorical_accuracy: 0.6983\n",
      "Epoch 14: saving model to model_init_conv_lstm_2023-10-2917_17_09.681714/model-00014-0.79075-0.69834-0.89651-0.65000.h5\n",
      "42/42 [==============================] - 79s 2s/step - loss: 0.7907 - categorical_accuracy: 0.6983 - val_loss: 0.8965 - val_categorical_accuracy: 0.6500 - lr: 0.0050\n",
      "Epoch 15/20\n",
      "42/42 [==============================] - ETA: 0s - loss: 0.7532 - categorical_accuracy: 0.7270\n",
      "Epoch 15: saving model to model_init_conv_lstm_2023-10-2917_17_09.681714/model-00015-0.75316-0.72700-0.89572-0.63000.h5\n",
      "42/42 [==============================] - 81s 2s/step - loss: 0.7532 - categorical_accuracy: 0.7270 - val_loss: 0.8957 - val_categorical_accuracy: 0.6300 - lr: 0.0050\n",
      "Epoch 16/20\n",
      "42/42 [==============================] - ETA: 0s - loss: 0.7032 - categorical_accuracy: 0.7557\n",
      "Epoch 16: saving model to model_init_conv_lstm_2023-10-2917_17_09.681714/model-00016-0.70319-0.75566-0.90816-0.64000.h5\n",
      "42/42 [==============================] - 81s 2s/step - loss: 0.7032 - categorical_accuracy: 0.7557 - val_loss: 0.9082 - val_categorical_accuracy: 0.6400 - lr: 0.0050\n",
      "Epoch 17/20\n",
      "42/42 [==============================] - ETA: 0s - loss: 0.6800 - categorical_accuracy: 0.7481\n",
      "Epoch 17: saving model to model_init_conv_lstm_2023-10-2917_17_09.681714/model-00017-0.68004-0.74811-0.83251-0.73000.h5\n",
      "42/42 [==============================] - 81s 2s/step - loss: 0.6800 - categorical_accuracy: 0.7481 - val_loss: 0.8325 - val_categorical_accuracy: 0.7300 - lr: 0.0050\n",
      "Epoch 18/20\n",
      "42/42 [==============================] - ETA: 0s - loss: 0.6530 - categorical_accuracy: 0.7722\n",
      "Epoch 18: saving model to model_init_conv_lstm_2023-10-2917_17_09.681714/model-00018-0.65297-0.77225-0.86977-0.66000.h5\n",
      "42/42 [==============================] - 77s 2s/step - loss: 0.6530 - categorical_accuracy: 0.7722 - val_loss: 0.8698 - val_categorical_accuracy: 0.6600 - lr: 0.0050\n",
      "Epoch 19/20\n",
      "42/42 [==============================] - ETA: 0s - loss: 0.6294 - categorical_accuracy: 0.7738\n",
      "Epoch 19: saving model to model_init_conv_lstm_2023-10-2917_17_09.681714/model-00019-0.62939-0.77376-0.90269-0.62000.h5\n",
      "\n",
      "Epoch 19: ReduceLROnPlateau reducing learning rate to 0.0024999999441206455.\n",
      "42/42 [==============================] - 81s 2s/step - loss: 0.6294 - categorical_accuracy: 0.7738 - val_loss: 0.9027 - val_categorical_accuracy: 0.6200 - lr: 0.0050\n",
      "Epoch 20/20\n",
      "42/42 [==============================] - ETA: 0s - loss: 0.5984 - categorical_accuracy: 0.7919\n",
      "Epoch 20: saving model to model_init_conv_lstm_2023-10-2917_17_09.681714/model-00020-0.59843-0.79186-0.76937-0.76000.h5\n",
      "42/42 [==============================] - 78s 2s/step - loss: 0.5984 - categorical_accuracy: 0.7919 - val_loss: 0.7694 - val_categorical_accuracy: 0.7600 - lr: 0.0025\n"
     ]
    },
    {
     "data": {
      "text/plain": [
       "<keras.src.callbacks.History at 0x79ce6c50dfc0>"
      ]
     },
     "execution_count": 16,
     "metadata": {},
     "output_type": "execute_result"
    }
   ],
   "source": [
    "model.fit_generator(train_generator, steps_per_epoch=steps_per_epoch, epochs=num_epochs, verbose=1,\n",
    "                    callbacks=callbacks_list, validation_data=val_generator,\n",
    "                    validation_steps=validation_steps, class_weight=None, workers=1, initial_epoch=0)"
   ]
  },
  {
   "cell_type": "markdown",
   "metadata": {
    "id": "C9sDYxK1aHtT"
   },
   "source": [
    "### Conclusion  categorical_accuracy: 0.7919  and  val_categorical_accuracy: 0.7600"
   ]
  },
  {
   "cell_type": "markdown",
   "metadata": {
    "id": "5XZisi7y6YBO"
   },
   "source": [
    "## Creating the 5th model\n",
    "### Model 5\n",
    "### CNN + RNN"
   ]
  },
  {
   "cell_type": "code",
   "execution_count": 31,
   "metadata": {
    "executionInfo": {
     "elapsed": 434,
     "status": "ok",
     "timestamp": 1698608695826,
     "user": {
      "displayName": "Akhilesh Dwivedi",
      "userId": "14119964615119755673"
     },
     "user_tz": -330
    },
    "id": "XZv3GCdA6YIM"
   },
   "outputs": [],
   "source": [
    "def generator(source_path, folder_list, batch_size):\n",
    "    print( 'Source path = ', source_path, '; batch size =', batch_size)\n",
    "    img_idx = [0,2,4,6,8,10,12,14,16,18,20,22,24,26,28]\n",
    "    while True:\n",
    "        t = np.random.permutation(folder_list)\n",
    "        num_batches = int(len(t)/batch_size)\n",
    "        for batch in range(num_batches):\n",
    "            batch_data = np.zeros((batch_size,15,120,120,3))\n",
    "            batch_labels = np.zeros((batch_size,5))\n",
    "            for folder in range(batch_size):\n",
    "                imgs = os.listdir(source_path+'/'+ t[folder + (batch*batch_size)].split(';')[0])\n",
    "                for idx,item in enumerate(img_idx):\n",
    "                    if item < len(imgs):\n",
    "                      image = imread(source_path+'/'+ t[folder + (batch*batch_size)].strip().split(';')[0]+'/'+imgs[item]).astype(np.float32)\n",
    "                      if image.shape[1] == 160:\n",
    "                          image = image[:,20:140,:].astype(np.float32)\n",
    "                      else:\n",
    "                          image = resize(image,(120,120)).astype(np.float32)\n",
    "\n",
    "                      batch_data[folder,idx,:,:,0] = image[:,:,0] - 104\n",
    "                      batch_data[folder,idx,:,:,1] = image[:,:,1] - 117\n",
    "                      batch_data[folder,idx,:,:,2] = image[:,:,2] - 123\n",
    "\n",
    "                batch_labels[folder, int(t[folder + (batch*batch_size)].strip().split(';')[2])] = 1\n",
    "            yield batch_data, batch_labels\n",
    "\n",
    "        if (len(t)%batch_size) != 0:\n",
    "            batch_data = np.zeros((len(t)%batch_size,15,120,120,3))\n",
    "            batch_labels = np.zeros((len(t)%batch_size,5))\n",
    "            for folder in range(len(t)%batch_size):\n",
    "                imgs = os.listdir(source_path+'/'+ t[folder + (num_batches*batch_size)].split(';')[0])\n",
    "                for idx,item in enumerate(img_idx):\n",
    "                    if item < len(imgs):\n",
    "                      image = imread(source_path+'/'+ t[folder + (num_batches*batch_size)].strip().split(';')[0]+'/'+imgs[item]).astype(np.float32)\n",
    "                      if image.shape[1] == 160:\n",
    "                          image = image[:,20:140,:].astype(np.float32)\n",
    "                      else:\n",
    "                          image = resize(image,(120,120)).astype(np.float32)\n",
    "\n",
    "                      batch_data[folder,idx,:,:,0] = image[:,:,0] - 104\n",
    "                      batch_data[folder,idx,:,:,1] = image[:,:,1] - 117\n",
    "                      batch_data[folder,idx,:,:,2] = image[:,:,2] - 123\n",
    "\n",
    "                batch_labels[folder, int(t[folder + (num_batches*batch_size)].strip().split(';')[2])] = 1\n",
    "\n",
    "            yield batch_data, batch_labels"
   ]
  },
  {
   "cell_type": "code",
   "execution_count": 32,
   "metadata": {
    "colab": {
     "base_uri": "https://localhost:8080/"
    },
    "executionInfo": {
     "elapsed": 446,
     "status": "ok",
     "timestamp": 1698608711233,
     "user": {
      "displayName": "Akhilesh Dwivedi",
      "userId": "14119964615119755673"
     },
     "user_tz": -330
    },
    "id": "8-YHJZAU6YKl",
    "outputId": "4a03c8af-3a77-4237-ec51-b64ef2c09df1"
   },
   "outputs": [
    {
     "name": "stdout",
     "output_type": "stream",
     "text": [
      "# training sequences = 663\n",
      "# validation sequences = 100\n",
      "# epochs = 50\n"
     ]
    }
   ],
   "source": [
    "curr_dt_time = datetime.datetime.now()\n",
    "train_path = project_folder + '/' + 'train' #'Project_data\\\\train'\n",
    "val_path = project_folder + '/' + 'val'  #'Project_data\\\\val'\n",
    "num_train_sequences = len(train_doc)\n",
    "print('# training sequences =', num_train_sequences)\n",
    "num_val_sequences = len(val_doc)\n",
    "print('# validation sequences =', num_val_sequences)\n",
    "num_epochs = 50\n",
    "print ('# epochs =', num_epochs)"
   ]
  },
  {
   "cell_type": "code",
   "execution_count": 33,
   "metadata": {
    "executionInfo": {
     "elapsed": 1125,
     "status": "ok",
     "timestamp": 1698608717236,
     "user": {
      "displayName": "Akhilesh Dwivedi",
      "userId": "14119964615119755673"
     },
     "user_tz": -330
    },
    "id": "9nEi-N7A6YNs"
   },
   "outputs": [],
   "source": [
    "from keras.models import Sequential, Model\n",
    "from keras.layers import Dense, GRU, Dropout, Flatten, TimeDistributed\n",
    "from keras.callbacks import ModelCheckpoint, ReduceLROnPlateau\n",
    "from keras import optimizers\n",
    "from keras.applications.vgg16 import VGG16\n",
    "\n",
    "base_model = VGG16(include_top=False, weights='imagenet', input_shape=(120,120,3))\n",
    "x = base_model.output\n",
    "x = Flatten()(x)\n",
    "#x.add(Dropout(0.5))\n",
    "features = Dense(64, activation='relu')(x)\n",
    "conv_model = Model(inputs=base_model.input, outputs=features)\n",
    "\n",
    "for layer in base_model.layers:\n",
    "    layer.trainable = False\n",
    "\n",
    "model = Sequential()\n",
    "model.add(TimeDistributed(conv_model, input_shape=(15,120,120,3)))\n",
    "model.add(GRU(32, return_sequences=True))\n",
    "model.add(GRU(16))\n",
    "model.add(Dropout(0.5))\n",
    "model.add(Dense(8, activation='relu'))\n",
    "model.add(Dense(5, activation='softmax'))"
   ]
  },
  {
   "cell_type": "code",
   "execution_count": 34,
   "metadata": {
    "colab": {
     "base_uri": "https://localhost:8080/"
    },
    "executionInfo": {
     "elapsed": 555,
     "status": "ok",
     "timestamp": 1698608728322,
     "user": {
      "displayName": "Akhilesh Dwivedi",
      "userId": "14119964615119755673"
     },
     "user_tz": -330
    },
    "id": "4ARzoOYj6YRU",
    "outputId": "61121bc7-de30-4369-a9b9-ee7726f41828"
   },
   "outputs": [
    {
     "name": "stdout",
     "output_type": "stream",
     "text": [
      "Model: \"sequential_3\"\n",
      "_________________________________________________________________\n",
      " Layer (type)                Output Shape              Param #   \n",
      "=================================================================\n",
      " time_distributed_2 (TimeDi  (None, 15, 64)            15009664  \n",
      " stributed)                                                      \n",
      "                                                                 \n",
      " gru_4 (GRU)                 (None, 15, 32)            9408      \n",
      "                                                                 \n",
      " gru_5 (GRU)                 (None, 16)                2400      \n",
      "                                                                 \n",
      " dropout_4 (Dropout)         (None, 16)                0         \n",
      "                                                                 \n",
      " dense_9 (Dense)             (None, 8)                 136       \n",
      "                                                                 \n",
      " dense_10 (Dense)            (None, 5)                 45        \n",
      "                                                                 \n",
      "=================================================================\n",
      "Total params: 15021653 (57.30 MB)\n",
      "Trainable params: 306965 (1.17 MB)\n",
      "Non-trainable params: 14714688 (56.13 MB)\n",
      "_________________________________________________________________\n",
      "None\n"
     ]
    }
   ],
   "source": [
    "optimiser = 'sgd'\n",
    "model.compile(optimizer=optimiser, loss='categorical_crossentropy', metrics=['categorical_accuracy'])\n",
    "print (model.summary())"
   ]
  },
  {
   "cell_type": "code",
   "execution_count": 35,
   "metadata": {
    "executionInfo": {
     "elapsed": 408,
     "status": "ok",
     "timestamp": 1698608737968,
     "user": {
      "displayName": "Akhilesh Dwivedi",
      "userId": "14119964615119755673"
     },
     "user_tz": -330
    },
    "id": "ihooMTC86YUW"
   },
   "outputs": [],
   "source": [
    "batch_size = 25"
   ]
  },
  {
   "cell_type": "code",
   "execution_count": 36,
   "metadata": {
    "executionInfo": {
     "elapsed": 433,
     "status": "ok",
     "timestamp": 1698608742535,
     "user": {
      "displayName": "Akhilesh Dwivedi",
      "userId": "14119964615119755673"
     },
     "user_tz": -330
    },
    "id": "7JIPaLmI6YXo"
   },
   "outputs": [],
   "source": [
    "train_generator = generator(train_path, train_doc, batch_size)\n",
    "val_generator = generator(val_path, val_doc, batch_size)"
   ]
  },
  {
   "cell_type": "code",
   "execution_count": 37,
   "metadata": {
    "colab": {
     "base_uri": "https://localhost:8080/"
    },
    "executionInfo": {
     "elapsed": 544,
     "status": "ok",
     "timestamp": 1698608746647,
     "user": {
      "displayName": "Akhilesh Dwivedi",
      "userId": "14119964615119755673"
     },
     "user_tz": -330
    },
    "id": "HaHNicYA6Ybs",
    "outputId": "0ef47ae4-10cf-4560-91e4-b67855e47477"
   },
   "outputs": [
    {
     "name": "stderr",
     "output_type": "stream",
     "text": [
      "WARNING:tensorflow:`period` argument is deprecated. Please use `save_freq` to specify the frequency in number of batches seen.\n",
      "WARNING:tensorflow:`epsilon` argument is deprecated and will be removed, use `min_delta` instead.\n"
     ]
    }
   ],
   "source": [
    "model_name = 'model_init_conv_lstm' + '_' + str(curr_dt_time).replace(' ','').replace(':','_') + '/'\n",
    "\n",
    "if not os.path.exists(model_name):\n",
    "    os.mkdir(model_name)\n",
    "\n",
    "filepath = model_name + 'model-{epoch:05d}-{loss:.5f}-{categorical_accuracy:.5f}-{val_loss:.5f}-{val_categorical_accuracy:.5f}.h5'\n",
    "\n",
    "checkpoint = ModelCheckpoint(filepath, monitor='val_loss', verbose=1, save_best_only=False, save_weights_only=False, mode='auto', period=1)\n",
    "\n",
    "LR = ReduceLROnPlateau(monitor='val_loss', factor=0.5, patience=2, verbose=1, mode='min', epsilon=0.0001, cooldown=0, min_lr=0.00001)\n",
    "callbacks_list = [checkpoint, LR]"
   ]
  },
  {
   "cell_type": "code",
   "execution_count": 38,
   "metadata": {
    "executionInfo": {
     "elapsed": 446,
     "status": "ok",
     "timestamp": 1698608756035,
     "user": {
      "displayName": "Akhilesh Dwivedi",
      "userId": "14119964615119755673"
     },
     "user_tz": -330
    },
    "id": "eWeC7UBt7ToN"
   },
   "outputs": [],
   "source": [
    "if (num_train_sequences%batch_size) == 0:\n",
    "    steps_per_epoch = int(num_train_sequences/batch_size)\n",
    "else:\n",
    "    steps_per_epoch = (num_train_sequences//batch_size) + 1\n",
    "\n",
    "if (num_val_sequences%batch_size) == 0:\n",
    "    validation_steps = int(num_val_sequences/batch_size)\n",
    "else:\n",
    "    validation_steps = (num_val_sequences//batch_size) + 1"
   ]
  },
  {
   "cell_type": "code",
   "execution_count": null,
   "metadata": {
    "colab": {
     "base_uri": "https://localhost:8080/"
    },
    "id": "oFHQ-m-b7Trp",
    "outputId": "2d0c4cbf-5133-467c-c707-7a8e6e0d6bf4"
   },
   "outputs": [
    {
     "name": "stdout",
     "output_type": "stream",
     "text": [
      "Source path =  gdrive/MyDrive/Colab Notebooks/Project_data/train ; batch size = 25\n",
      "Epoch 1/50\n",
      "27/27 [==============================] - ETA: 0s - loss: 1.6497 - categorical_accuracy: 0.2262Source path =  gdrive/MyDrive/Colab Notebooks/Project_data/val ; batch size = 25\n",
      "\n",
      "Epoch 1: saving model to model_init_conv_lstm_2023-10-2919_45_11.004835/model-00001-1.64973-0.22624-1.58789-0.23000.h5\n",
      "27/27 [==============================] - 109s 3s/step - loss: 1.6497 - categorical_accuracy: 0.2262 - val_loss: 1.5879 - val_categorical_accuracy: 0.2300 - lr: 0.0100\n",
      "Epoch 2/50\n",
      "27/27 [==============================] - ETA: 0s - loss: 1.6150 - categorical_accuracy: 0.2655\n",
      "Epoch 2: saving model to model_init_conv_lstm_2023-10-2919_45_11.004835/model-00002-1.61504-0.26546-1.58708-0.31000.h5\n",
      "27/27 [==============================] - 94s 4s/step - loss: 1.6150 - categorical_accuracy: 0.2655 - val_loss: 1.5871 - val_categorical_accuracy: 0.3100 - lr: 0.0100\n",
      "Epoch 3/50\n",
      "27/27 [==============================] - ETA: 0s - loss: 1.5409 - categorical_accuracy: 0.3062\n",
      "Epoch 3: saving model to model_init_conv_lstm_2023-10-2919_45_11.004835/model-00003-1.54093-0.30618-1.56366-0.23000.h5\n",
      "27/27 [==============================] - 82s 3s/step - loss: 1.5409 - categorical_accuracy: 0.3062 - val_loss: 1.5637 - val_categorical_accuracy: 0.2300 - lr: 0.0100\n",
      "Epoch 4/50\n",
      "27/27 [==============================] - ETA: 0s - loss: 1.5250 - categorical_accuracy: 0.3062\n",
      "Epoch 4: saving model to model_init_conv_lstm_2023-10-2919_45_11.004835/model-00004-1.52501-0.30618-1.49000-0.35000.h5\n",
      "27/27 [==============================] - 83s 3s/step - loss: 1.5250 - categorical_accuracy: 0.3062 - val_loss: 1.4900 - val_categorical_accuracy: 0.3500 - lr: 0.0100\n",
      "Epoch 5/50\n",
      "27/27 [==============================] - ETA: 0s - loss: 1.4888 - categorical_accuracy: 0.3741\n",
      "Epoch 5: saving model to model_init_conv_lstm_2023-10-2919_45_11.004835/model-00005-1.48881-0.37406-1.47891-0.39000.h5\n",
      "27/27 [==============================] - 81s 3s/step - loss: 1.4888 - categorical_accuracy: 0.3741 - val_loss: 1.4789 - val_categorical_accuracy: 0.3900 - lr: 0.0100\n",
      "Epoch 6/50\n",
      "27/27 [==============================] - ETA: 0s - loss: 1.4573 - categorical_accuracy: 0.3861\n",
      "Epoch 6: saving model to model_init_conv_lstm_2023-10-2919_45_11.004835/model-00006-1.45735-0.38612-1.39579-0.47000.h5\n",
      "27/27 [==============================] - 100s 4s/step - loss: 1.4573 - categorical_accuracy: 0.3861 - val_loss: 1.3958 - val_categorical_accuracy: 0.4700 - lr: 0.0100\n",
      "Epoch 7/50\n",
      "27/27 [==============================] - ETA: 0s - loss: 1.3755 - categorical_accuracy: 0.4646\n",
      "Epoch 7: saving model to model_init_conv_lstm_2023-10-2919_45_11.004835/model-00007-1.37547-0.46456-1.43661-0.39000.h5\n",
      "27/27 [==============================] - 73s 3s/step - loss: 1.3755 - categorical_accuracy: 0.4646 - val_loss: 1.4366 - val_categorical_accuracy: 0.3900 - lr: 0.0100\n",
      "Epoch 8/50\n",
      "27/27 [==============================] - ETA: 0s - loss: 1.3227 - categorical_accuracy: 0.4691\n",
      "Epoch 8: saving model to model_init_conv_lstm_2023-10-2919_45_11.004835/model-00008-1.32269-0.46908-1.31660-0.49000.h5\n",
      "27/27 [==============================] - 82s 3s/step - loss: 1.3227 - categorical_accuracy: 0.4691 - val_loss: 1.3166 - val_categorical_accuracy: 0.4900 - lr: 0.0100\n",
      "Epoch 9/50\n",
      "27/27 [==============================] - ETA: 0s - loss: 1.2538 - categorical_accuracy: 0.5249\n",
      "Epoch 9: saving model to model_init_conv_lstm_2023-10-2919_45_11.004835/model-00009-1.25378-0.52489-1.25929-0.57000.h5\n",
      "27/27 [==============================] - 82s 3s/step - loss: 1.2538 - categorical_accuracy: 0.5249 - val_loss: 1.2593 - val_categorical_accuracy: 0.5700 - lr: 0.0100\n",
      "Epoch 10/50\n",
      "27/27 [==============================] - ETA: 0s - loss: 1.2380 - categorical_accuracy: 0.5339\n",
      "Epoch 10: saving model to model_init_conv_lstm_2023-10-2919_45_11.004835/model-00010-1.23803-0.53394-1.30020-0.44000.h5\n",
      "27/27 [==============================] - 80s 3s/step - loss: 1.2380 - categorical_accuracy: 0.5339 - val_loss: 1.3002 - val_categorical_accuracy: 0.4400 - lr: 0.0100\n",
      "Epoch 11/50\n",
      "27/27 [==============================] - ETA: 0s - loss: 1.1692 - categorical_accuracy: 0.5535\n",
      "Epoch 11: saving model to model_init_conv_lstm_2023-10-2919_45_11.004835/model-00011-1.16917-0.55354-1.20507-0.50000.h5\n",
      "27/27 [==============================] - 84s 3s/step - loss: 1.1692 - categorical_accuracy: 0.5535 - val_loss: 1.2051 - val_categorical_accuracy: 0.5000 - lr: 0.0100\n",
      "Epoch 12/50\n",
      "27/27 [==============================] - ETA: 0s - loss: 1.0985 - categorical_accuracy: 0.6139\n",
      "Epoch 12: saving model to model_init_conv_lstm_2023-10-2919_45_11.004835/model-00012-1.09854-0.61388-1.17689-0.64000.h5\n",
      "27/27 [==============================] - 81s 3s/step - loss: 1.0985 - categorical_accuracy: 0.6139 - val_loss: 1.1769 - val_categorical_accuracy: 0.6400 - lr: 0.0100\n",
      "Epoch 13/50\n",
      "27/27 [==============================] - ETA: 0s - loss: 1.0652 - categorical_accuracy: 0.6109\n",
      "Epoch 13: saving model to model_init_conv_lstm_2023-10-2919_45_11.004835/model-00013-1.06522-0.61086-1.14063-0.56000.h5\n",
      "27/27 [==============================] - 84s 3s/step - loss: 1.0652 - categorical_accuracy: 0.6109 - val_loss: 1.1406 - val_categorical_accuracy: 0.5600 - lr: 0.0100\n",
      "Epoch 14/50\n",
      "27/27 [==============================] - ETA: 0s - loss: 1.0241 - categorical_accuracy: 0.6531\n",
      "Epoch 14: saving model to model_init_conv_lstm_2023-10-2919_45_11.004835/model-00014-1.02408-0.65309-1.16801-0.48000.h5\n",
      "27/27 [==============================] - 81s 3s/step - loss: 1.0241 - categorical_accuracy: 0.6531 - val_loss: 1.1680 - val_categorical_accuracy: 0.4800 - lr: 0.0100\n",
      "Epoch 15/50\n",
      "27/27 [==============================] - ETA: 0s - loss: 0.9228 - categorical_accuracy: 0.6863\n",
      "Epoch 15: saving model to model_init_conv_lstm_2023-10-2919_45_11.004835/model-00015-0.92277-0.68627-1.13038-0.56000.h5\n",
      "27/27 [==============================] - 81s 3s/step - loss: 0.9228 - categorical_accuracy: 0.6863 - val_loss: 1.1304 - val_categorical_accuracy: 0.5600 - lr: 0.0100\n",
      "Epoch 16/50\n",
      "27/27 [==============================] - ETA: 0s - loss: 0.8786 - categorical_accuracy: 0.7104\n",
      "Epoch 16: saving model to model_init_conv_lstm_2023-10-2919_45_11.004835/model-00016-0.87859-0.71041-1.02903-0.62000.h5\n",
      "27/27 [==============================] - 83s 3s/step - loss: 0.8786 - categorical_accuracy: 0.7104 - val_loss: 1.0290 - val_categorical_accuracy: 0.6200 - lr: 0.0100\n",
      "Epoch 17/50\n",
      "27/27 [==============================] - ETA: 0s - loss: 0.8364 - categorical_accuracy: 0.7195\n",
      "Epoch 17: saving model to model_init_conv_lstm_2023-10-2919_45_11.004835/model-00017-0.83639-0.71946-0.98738-0.65000.h5\n",
      "27/27 [==============================] - 83s 3s/step - loss: 0.8364 - categorical_accuracy: 0.7195 - val_loss: 0.9874 - val_categorical_accuracy: 0.6500 - lr: 0.0100\n",
      "Epoch 18/50\n",
      "27/27 [==============================] - ETA: 0s - loss: 0.7953 - categorical_accuracy: 0.7240\n",
      "Epoch 18: saving model to model_init_conv_lstm_2023-10-2919_45_11.004835/model-00018-0.79535-0.72398-1.12612-0.57000.h5\n",
      "27/27 [==============================] - 82s 3s/step - loss: 0.7953 - categorical_accuracy: 0.7240 - val_loss: 1.1261 - val_categorical_accuracy: 0.5700 - lr: 0.0100\n",
      "Epoch 19/50\n",
      "27/27 [==============================] - ETA: 0s - loss: 0.7379 - categorical_accuracy: 0.7707\n",
      "Epoch 19: saving model to model_init_conv_lstm_2023-10-2919_45_11.004835/model-00019-0.73794-0.77074-1.14344-0.53000.h5\n",
      "\n",
      "Epoch 19: ReduceLROnPlateau reducing learning rate to 0.004999999888241291.\n",
      "27/27 [==============================] - 81s 3s/step - loss: 0.7379 - categorical_accuracy: 0.7707 - val_loss: 1.1434 - val_categorical_accuracy: 0.5300 - lr: 0.0100\n",
      "Epoch 20/50\n",
      "27/27 [==============================] - ETA: 0s - loss: 0.6993 - categorical_accuracy: 0.7722\n",
      "Epoch 20: saving model to model_init_conv_lstm_2023-10-2919_45_11.004835/model-00020-0.69927-0.77225-0.85424-0.77000.h5\n",
      "27/27 [==============================] - 80s 3s/step - loss: 0.6993 - categorical_accuracy: 0.7722 - val_loss: 0.8542 - val_categorical_accuracy: 0.7700 - lr: 0.0050\n",
      "Epoch 21/50\n",
      "27/27 [==============================] - ETA: 0s - loss: 0.6525 - categorical_accuracy: 0.8039\n",
      "Epoch 21: saving model to model_init_conv_lstm_2023-10-2919_45_11.004835/model-00021-0.65251-0.80392-0.96704-0.69000.h5\n",
      "27/27 [==============================] - 81s 3s/step - loss: 0.6525 - categorical_accuracy: 0.8039 - val_loss: 0.9670 - val_categorical_accuracy: 0.6900 - lr: 0.0050\n",
      "Epoch 22/50\n",
      "27/27 [==============================] - ETA: 0s - loss: 0.6091 - categorical_accuracy: 0.8386\n",
      "Epoch 22: saving model to model_init_conv_lstm_2023-10-2919_45_11.004835/model-00022-0.60908-0.83861-0.98824-0.64000.h5\n",
      "\n",
      "Epoch 22: ReduceLROnPlateau reducing learning rate to 0.0024999999441206455.\n",
      "27/27 [==============================] - 80s 3s/step - loss: 0.6091 - categorical_accuracy: 0.8386 - val_loss: 0.9882 - val_categorical_accuracy: 0.6400 - lr: 0.0050\n",
      "Epoch 23/50\n",
      "27/27 [==============================] - ETA: 0s - loss: 0.5868 - categorical_accuracy: 0.8492\n",
      "Epoch 23: saving model to model_init_conv_lstm_2023-10-2919_45_11.004835/model-00023-0.58679-0.84917-0.90017-0.73000.h5\n",
      "27/27 [==============================] - 81s 3s/step - loss: 0.5868 - categorical_accuracy: 0.8492 - val_loss: 0.9002 - val_categorical_accuracy: 0.7300 - lr: 0.0025\n",
      "Epoch 24/50\n",
      "27/27 [==============================] - ETA: 0s - loss: 0.5837 - categorical_accuracy: 0.8386\n",
      "Epoch 24: saving model to model_init_conv_lstm_2023-10-2919_45_11.004835/model-00024-0.58371-0.83861-0.92453-0.72000.h5\n",
      "\n",
      "Epoch 24: ReduceLROnPlateau reducing learning rate to 0.0012499999720603228.\n",
      "27/27 [==============================] - 81s 3s/step - loss: 0.5837 - categorical_accuracy: 0.8386 - val_loss: 0.9245 - val_categorical_accuracy: 0.7200 - lr: 0.0025\n",
      "Epoch 25/50\n",
      "27/27 [==============================] - ETA: 0s - loss: 0.5656 - categorical_accuracy: 0.8492\n",
      "Epoch 25: saving model to model_init_conv_lstm_2023-10-2919_45_11.004835/model-00025-0.56560-0.84917-0.93515-0.71000.h5\n",
      "27/27 [==============================] - 79s 3s/step - loss: 0.5656 - categorical_accuracy: 0.8492 - val_loss: 0.9352 - val_categorical_accuracy: 0.7100 - lr: 0.0012\n",
      "Epoch 26/50\n",
      "27/27 [==============================] - ETA: 0s - loss: 0.5548 - categorical_accuracy: 0.8446\n",
      "Epoch 26: saving model to model_init_conv_lstm_2023-10-2919_45_11.004835/model-00026-0.55485-0.84465-0.93476-0.74000.h5\n",
      "\n",
      "Epoch 26: ReduceLROnPlateau reducing learning rate to 0.0006249999860301614.\n",
      "27/27 [==============================] - 80s 3s/step - loss: 0.5548 - categorical_accuracy: 0.8446 - val_loss: 0.9348 - val_categorical_accuracy: 0.7400 - lr: 0.0012\n",
      "Epoch 27/50\n",
      "27/27 [==============================] - ETA: 0s - loss: 0.5363 - categorical_accuracy: 0.8597\n",
      "Epoch 27: saving model to model_init_conv_lstm_2023-10-2919_45_11.004835/model-00027-0.53630-0.85973-0.98082-0.70000.h5\n",
      "27/27 [==============================] - 81s 3s/step - loss: 0.5363 - categorical_accuracy: 0.8597 - val_loss: 0.9808 - val_categorical_accuracy: 0.7000 - lr: 6.2500e-04\n",
      "Epoch 28/50\n",
      "27/27 [==============================] - ETA: 0s - loss: 0.5321 - categorical_accuracy: 0.8703\n",
      "Epoch 28: saving model to model_init_conv_lstm_2023-10-2919_45_11.004835/model-00028-0.53210-0.87029-0.85827-0.75000.h5\n",
      "\n",
      "Epoch 28: ReduceLROnPlateau reducing learning rate to 0.0003124999930150807.\n",
      "27/27 [==============================] - 81s 3s/step - loss: 0.5321 - categorical_accuracy: 0.8703 - val_loss: 0.8583 - val_categorical_accuracy: 0.7500 - lr: 6.2500e-04\n",
      "Epoch 29/50\n",
      "27/27 [==============================] - ETA: 0s - loss: 0.5468 - categorical_accuracy: 0.8386\n",
      "Epoch 29: saving model to model_init_conv_lstm_2023-10-2919_45_11.004835/model-00029-0.54682-0.83861-0.93097-0.71000.h5\n",
      "27/27 [==============================] - 81s 3s/step - loss: 0.5468 - categorical_accuracy: 0.8386 - val_loss: 0.9310 - val_categorical_accuracy: 0.7100 - lr: 3.1250e-04\n",
      "Epoch 30/50\n",
      "27/27 [==============================] - ETA: 0s - loss: 0.5529 - categorical_accuracy: 0.8341\n",
      "Epoch 30: saving model to model_init_conv_lstm_2023-10-2919_45_11.004835/model-00030-0.55288-0.83409-0.94838-0.73000.h5\n",
      "\n",
      "Epoch 30: ReduceLROnPlateau reducing learning rate to 0.00015624999650754035.\n",
      "27/27 [==============================] - 80s 3s/step - loss: 0.5529 - categorical_accuracy: 0.8341 - val_loss: 0.9484 - val_categorical_accuracy: 0.7300 - lr: 3.1250e-04\n",
      "Epoch 31/50\n",
      "27/27 [==============================] - ETA: 0s - loss: 0.5351 - categorical_accuracy: 0.8627\n",
      "Epoch 31: saving model to model_init_conv_lstm_2023-10-2919_45_11.004835/model-00031-0.53514-0.86275-0.91067-0.70000.h5\n",
      "27/27 [==============================] - 80s 3s/step - loss: 0.5351 - categorical_accuracy: 0.8627 - val_loss: 0.9107 - val_categorical_accuracy: 0.7000 - lr: 1.5625e-04\n",
      "Epoch 32/50\n",
      "27/27 [==============================] - ETA: 0s - loss: 0.5398 - categorical_accuracy: 0.8718\n",
      "Epoch 32: saving model to model_init_conv_lstm_2023-10-2919_45_11.004835/model-00032-0.53977-0.87179-0.89747-0.76000.h5\n",
      "\n",
      "Epoch 32: ReduceLROnPlateau reducing learning rate to 7.812499825377017e-05.\n",
      "27/27 [==============================] - 81s 3s/step - loss: 0.5398 - categorical_accuracy: 0.8718 - val_loss: 0.8975 - val_categorical_accuracy: 0.7600 - lr: 1.5625e-04\n",
      "Epoch 33/50\n",
      "27/27 [==============================] - ETA: 0s - loss: 0.5482 - categorical_accuracy: 0.8492\n",
      "Epoch 33: saving model to model_init_conv_lstm_2023-10-2919_45_11.004835/model-00033-0.54823-0.84917-0.93108-0.72000.h5\n",
      "27/27 [==============================] - 82s 3s/step - loss: 0.5482 - categorical_accuracy: 0.8492 - val_loss: 0.9311 - val_categorical_accuracy: 0.7200 - lr: 7.8125e-05\n",
      "Epoch 34/50\n",
      "27/27 [==============================] - ETA: 0s - loss: 0.5182 - categorical_accuracy: 0.8658\n",
      "Epoch 34: saving model to model_init_conv_lstm_2023-10-2919_45_11.004835/model-00034-0.51821-0.86576-0.87986-0.76000.h5\n",
      "\n",
      "Epoch 34: ReduceLROnPlateau reducing learning rate to 3.9062499126885086e-05.\n",
      "27/27 [==============================] - 80s 3s/step - loss: 0.5182 - categorical_accuracy: 0.8658 - val_loss: 0.8799 - val_categorical_accuracy: 0.7600 - lr: 7.8125e-05\n",
      "Epoch 35/50\n",
      "27/27 [==============================] - ETA: 0s - loss: 0.5198 - categorical_accuracy: 0.8688\n",
      "Epoch 35: saving model to model_init_conv_lstm_2023-10-2919_45_11.004835/model-00035-0.51977-0.86878-0.86215-0.76000.h5\n",
      "27/27 [==============================] - 81s 3s/step - loss: 0.5198 - categorical_accuracy: 0.8688 - val_loss: 0.8621 - val_categorical_accuracy: 0.7600 - lr: 3.9062e-05\n",
      "Epoch 36/50\n",
      "27/27 [==============================] - ETA: 0s - loss: 0.5377 - categorical_accuracy: 0.8552\n",
      "Epoch 36: saving model to model_init_conv_lstm_2023-10-2919_45_11.004835/model-00036-0.53770-0.85520-0.97085-0.69000.h5\n",
      "\n",
      "Epoch 36: ReduceLROnPlateau reducing learning rate to 1.9531249563442543e-05.\n",
      "27/27 [==============================] - 79s 3s/step - loss: 0.5377 - categorical_accuracy: 0.8552 - val_loss: 0.9708 - val_categorical_accuracy: 0.6900 - lr: 3.9062e-05\n",
      "Epoch 37/50\n",
      "27/27 [==============================] - ETA: 0s - loss: 0.5361 - categorical_accuracy: 0.8582\n",
      "Epoch 37: saving model to model_init_conv_lstm_2023-10-2919_45_11.004835/model-00037-0.53610-0.85822-0.93062-0.72000.h5\n",
      "27/27 [==============================] - 82s 3s/step - loss: 0.5361 - categorical_accuracy: 0.8582 - val_loss: 0.9306 - val_categorical_accuracy: 0.7200 - lr: 1.9531e-05\n",
      "Epoch 38/50\n",
      "27/27 [==============================] - ETA: 0s - loss: 0.5225 - categorical_accuracy: 0.8733\n",
      "Epoch 38: saving model to model_init_conv_lstm_2023-10-2919_45_11.004835/model-00038-0.52245-0.87330-1.06313-0.67000.h5\n",
      "\n",
      "Epoch 38: ReduceLROnPlateau reducing learning rate to 1e-05.\n",
      "27/27 [==============================] - 80s 3s/step - loss: 0.5225 - categorical_accuracy: 0.8733 - val_loss: 1.0631 - val_categorical_accuracy: 0.6700 - lr: 1.9531e-05\n",
      "Epoch 39/50\n",
      "27/27 [==============================] - ETA: 0s - loss: 0.5563 - categorical_accuracy: 0.8341\n",
      "Epoch 39: saving model to model_init_conv_lstm_2023-10-2919_45_11.004835/model-00039-0.55634-0.83409-0.86210-0.77000.h5\n",
      "27/27 [==============================] - 80s 3s/step - loss: 0.5563 - categorical_accuracy: 0.8341 - val_loss: 0.8621 - val_categorical_accuracy: 0.7700 - lr: 1.0000e-05\n",
      "Epoch 40/50\n",
      "27/27 [==============================] - ETA: 0s - loss: 0.5265 - categorical_accuracy: 0.8839\n",
      "Epoch 40: saving model to model_init_conv_lstm_2023-10-2919_45_11.004835/model-00040-0.52645-0.88386-0.96906-0.69000.h5\n",
      "27/27 [==============================] - 81s 3s/step - loss: 0.5265 - categorical_accuracy: 0.8839 - val_loss: 0.9691 - val_categorical_accuracy: 0.6900 - lr: 1.0000e-05\n",
      "Epoch 41/50\n",
      "11/27 [===========>..................] - ETA: 26s - loss: 0.5446 - categorical_accuracy: 0.8582"
     ]
    }
   ],
   "source": [
    "history5 = model.fit_generator(train_generator, steps_per_epoch=steps_per_epoch, epochs=num_epochs, verbose=1,\n",
    "                    callbacks=callbacks_list, validation_data=val_generator,\n",
    "                    validation_steps=validation_steps, class_weight=None, workers=1, initial_epoch=0)"
   ]
  },
  {
   "cell_type": "markdown",
   "metadata": {
    "id": "wWA7_b5Mw7zg"
   },
   "source": [
    "## Creating the 6th model\n",
    "### Model 6"
   ]
  },
  {
   "cell_type": "code",
   "execution_count": 8,
   "metadata": {
    "executionInfo": {
     "elapsed": 490,
     "status": "ok",
     "timestamp": 1698639208873,
     "user": {
      "displayName": "Akhilesh Dwivedi",
      "userId": "14119964615119755673"
     },
     "user_tz": -330
    },
    "id": "IAsF639vw75Z"
   },
   "outputs": [],
   "source": [
    "def generator(source_path, folder_list, batch_size):\n",
    "    print( 'Source path = ', source_path, '; batch size =', batch_size)\n",
    "    img_idx = [0,2,4,6,8,10,12,14,16,18,20,22,24,26,28]\n",
    "    while True:\n",
    "        t = np.random.permutation(folder_list)\n",
    "        num_batches = int(len(t)/batch_size)\n",
    "        for batch in range(num_batches):\n",
    "            batch_data = np.zeros((batch_size,15,120,120,3))\n",
    "            batch_labels = np.zeros((batch_size,5))\n",
    "            for folder in range(batch_size):\n",
    "                imgs = os.listdir(source_path+'/'+ t[folder + (batch*batch_size)].split(';')[0])\n",
    "                for idx,item in enumerate(img_idx):\n",
    "                    if item < len(imgs):\n",
    "                      image = imread(source_path+'/'+ t[folder + (batch*batch_size)].strip().split(';')[0]+'/'+imgs[item]).astype(np.float32)\n",
    "                      if image.shape[1] == 160:\n",
    "                          image = image[:,20:140,:].astype(np.float32)\n",
    "                      else:\n",
    "                          image = resize(image,(120,120)).astype(np.float32)\n",
    "\n",
    "                      batch_data[folder,idx,:,:,0] = image[:,:,0] - 104\n",
    "                      batch_data[folder,idx,:,:,1] = image[:,:,1] - 117\n",
    "                      batch_data[folder,idx,:,:,2] = image[:,:,2] - 123\n",
    "\n",
    "                batch_labels[folder, int(t[folder + (batch*batch_size)].strip().split(';')[2])] = 1\n",
    "            yield batch_data, batch_labels\n",
    "\n",
    "        if (len(t)%batch_size) != 0:\n",
    "            batch_data = np.zeros((len(t)%batch_size,15,120,120,3))\n",
    "            batch_labels = np.zeros((len(t)%batch_size,5))\n",
    "            for folder in range(len(t)%batch_size):\n",
    "                imgs = os.listdir(source_path+'/'+ t[folder + (num_batches*batch_size)].split(';')[0])\n",
    "                for idx,item in enumerate(img_idx):\n",
    "                    if item < len(imgs):\n",
    "                      image = imread(source_path+'/'+ t[folder + (num_batches*batch_size)].strip().split(';')[0]+'/'+imgs[item]).astype(np.float32)\n",
    "                      if image.shape[1] == 160:\n",
    "                          image = image[:,20:140,:].astype(np.float32)\n",
    "                      else:\n",
    "                          image = resize(image,(120,120)).astype(np.float32)\n",
    "\n",
    "                      batch_data[folder,idx,:,:,0] = image[:,:,0] - 104\n",
    "                      batch_data[folder,idx,:,:,1] = image[:,:,1] - 117\n",
    "                      batch_data[folder,idx,:,:,2] = image[:,:,2] - 123\n",
    "\n",
    "                batch_labels[folder, int(t[folder + (num_batches*batch_size)].strip().split(';')[2])] = 1\n",
    "\n",
    "            yield batch_data, batch_labels"
   ]
  },
  {
   "cell_type": "code",
   "execution_count": 9,
   "metadata": {
    "colab": {
     "base_uri": "https://localhost:8080/"
    },
    "executionInfo": {
     "elapsed": 471,
     "status": "ok",
     "timestamp": 1698639217436,
     "user": {
      "displayName": "Akhilesh Dwivedi",
      "userId": "14119964615119755673"
     },
     "user_tz": -330
    },
    "id": "Y4NDaEQTw78R",
    "outputId": "9c11b11b-43b9-4cc1-aaac-dc6d48dd41db"
   },
   "outputs": [
    {
     "name": "stdout",
     "output_type": "stream",
     "text": [
      "# training sequences = 663\n",
      "# validation sequences = 100\n",
      "# epochs = 50\n"
     ]
    }
   ],
   "source": [
    "curr_dt_time = datetime.datetime.now()\n",
    "train_path = project_folder + '/' + 'train' #'Project_data\\\\train'\n",
    "val_path = project_folder + '/' + 'val'  #'Project_data\\\\val'\n",
    "num_train_sequences = len(train_doc)\n",
    "print('# training sequences =', num_train_sequences)\n",
    "num_val_sequences = len(val_doc)\n",
    "print('# validation sequences =', num_val_sequences)\n",
    "num_epochs = 50\n",
    "print ('# epochs =', num_epochs)"
   ]
  },
  {
   "cell_type": "code",
   "execution_count": 10,
   "metadata": {
    "colab": {
     "base_uri": "https://localhost:8080/"
    },
    "executionInfo": {
     "elapsed": 4920,
     "status": "ok",
     "timestamp": 1698639236319,
     "user": {
      "displayName": "Akhilesh Dwivedi",
      "userId": "14119964615119755673"
     },
     "user_tz": -330
    },
    "id": "CG7pyZB5w7_6",
    "outputId": "6ed5da33-c78e-49e5-a7e7-208640f71d6e"
   },
   "outputs": [
    {
     "name": "stdout",
     "output_type": "stream",
     "text": [
      "Downloading data from https://storage.googleapis.com/tensorflow/keras-applications/vgg16/vgg16_weights_tf_dim_ordering_tf_kernels_notop.h5\n",
      "58889256/58889256 [==============================] - 0s 0us/step\n"
     ]
    }
   ],
   "source": [
    "from keras.models import Sequential, Model\n",
    "from keras.layers import Dense, GRU, Dropout, Flatten, TimeDistributed\n",
    "from keras.callbacks import ModelCheckpoint, ReduceLROnPlateau\n",
    "from keras import optimizers\n",
    "from keras.applications.vgg16 import VGG16\n",
    "\n",
    "base_model = VGG16(include_top=False, weights='imagenet', input_shape=(120,120,3))\n",
    "x = base_model.output\n",
    "x = Flatten()(x)\n",
    "#x.add(Dropout(0.5))\n",
    "features = Dense(64, activation='relu')(x)\n",
    "conv_model = Model(inputs=base_model.input, outputs=features)\n",
    "\n",
    "for layer in base_model.layers:\n",
    "    layer.trainable = False\n",
    "\n",
    "model = Sequential()\n",
    "model.add(TimeDistributed(conv_model, input_shape=(15,120,120,3)))\n",
    "model.add(GRU(32, return_sequences=True))\n",
    "model.add(GRU(16))\n",
    "model.add(Dropout(0.5))\n",
    "model.add(Dense(8, activation='relu'))\n",
    "model.add(Dense(5, activation='softmax'))"
   ]
  },
  {
   "cell_type": "code",
   "execution_count": 11,
   "metadata": {
    "colab": {
     "base_uri": "https://localhost:8080/"
    },
    "executionInfo": {
     "elapsed": 731,
     "status": "ok",
     "timestamp": 1698639243717,
     "user": {
      "displayName": "Akhilesh Dwivedi",
      "userId": "14119964615119755673"
     },
     "user_tz": -330
    },
    "id": "wTvhck6Ew8Cr",
    "outputId": "b00a724a-4cac-4399-bb27-df9c821b51c5"
   },
   "outputs": [
    {
     "name": "stdout",
     "output_type": "stream",
     "text": [
      "Model: \"sequential\"\n",
      "_________________________________________________________________\n",
      " Layer (type)                Output Shape              Param #   \n",
      "=================================================================\n",
      " time_distributed (TimeDist  (None, 15, 64)            15009664  \n",
      " ributed)                                                        \n",
      "                                                                 \n",
      " gru (GRU)                   (None, 15, 32)            9408      \n",
      "                                                                 \n",
      " gru_1 (GRU)                 (None, 16)                2400      \n",
      "                                                                 \n",
      " dropout (Dropout)           (None, 16)                0         \n",
      "                                                                 \n",
      " dense_1 (Dense)             (None, 8)                 136       \n",
      "                                                                 \n",
      " dense_2 (Dense)             (None, 5)                 45        \n",
      "                                                                 \n",
      "=================================================================\n",
      "Total params: 15021653 (57.30 MB)\n",
      "Trainable params: 306965 (1.17 MB)\n",
      "Non-trainable params: 14714688 (56.13 MB)\n",
      "_________________________________________________________________\n",
      "None\n"
     ]
    }
   ],
   "source": [
    "optimiser = 'sgd'\n",
    "model.compile(optimizer=optimiser, loss='categorical_crossentropy', metrics=['categorical_accuracy'])\n",
    "print (model.summary())"
   ]
  },
  {
   "cell_type": "code",
   "execution_count": 12,
   "metadata": {
    "executionInfo": {
     "elapsed": 516,
     "status": "ok",
     "timestamp": 1698639251967,
     "user": {
      "displayName": "Akhilesh Dwivedi",
      "userId": "14119964615119755673"
     },
     "user_tz": -330
    },
    "id": "0m30j-hew8Ft"
   },
   "outputs": [],
   "source": [
    "batch_size = 20"
   ]
  },
  {
   "cell_type": "code",
   "execution_count": 13,
   "metadata": {
    "executionInfo": {
     "elapsed": 488,
     "status": "ok",
     "timestamp": 1698639255979,
     "user": {
      "displayName": "Akhilesh Dwivedi",
      "userId": "14119964615119755673"
     },
     "user_tz": -330
    },
    "id": "ao4wl7oTxdZN"
   },
   "outputs": [],
   "source": [
    "train_generator = generator(train_path, train_doc, batch_size)\n",
    "val_generator = generator(val_path, val_doc, batch_size)"
   ]
  },
  {
   "cell_type": "code",
   "execution_count": 14,
   "metadata": {
    "colab": {
     "base_uri": "https://localhost:8080/"
    },
    "executionInfo": {
     "elapsed": 475,
     "status": "ok",
     "timestamp": 1698639261182,
     "user": {
      "displayName": "Akhilesh Dwivedi",
      "userId": "14119964615119755673"
     },
     "user_tz": -330
    },
    "id": "6xNR6rpWxdcE",
    "outputId": "7f031cbe-b531-454c-8b52-1da8fcb4181b"
   },
   "outputs": [
    {
     "name": "stderr",
     "output_type": "stream",
     "text": [
      "WARNING:tensorflow:`period` argument is deprecated. Please use `save_freq` to specify the frequency in number of batches seen.\n",
      "WARNING:tensorflow:`epsilon` argument is deprecated and will be removed, use `min_delta` instead.\n"
     ]
    }
   ],
   "source": [
    "model_name = 'model_init_conv_lstm' + '_' + str(curr_dt_time).replace(' ','').replace(':','_') + '/'\n",
    "\n",
    "if not os.path.exists(model_name):\n",
    "    os.mkdir(model_name)\n",
    "\n",
    "filepath = model_name + 'model-{epoch:05d}-{loss:.5f}-{categorical_accuracy:.5f}-{val_loss:.5f}-{val_categorical_accuracy:.5f}.h5'\n",
    "\n",
    "checkpoint = ModelCheckpoint(filepath, monitor='val_loss', verbose=1, save_best_only=False, save_weights_only=False, mode='auto', period=1)\n",
    "\n",
    "LR = ReduceLROnPlateau(monitor='val_loss', factor=0.5, patience=2, verbose=1, mode='min', epsilon=0.0001, cooldown=0, min_lr=0.00001)\n",
    "callbacks_list = [checkpoint, LR]"
   ]
  },
  {
   "cell_type": "code",
   "execution_count": 15,
   "metadata": {
    "executionInfo": {
     "elapsed": 456,
     "status": "ok",
     "timestamp": 1698639268533,
     "user": {
      "displayName": "Akhilesh Dwivedi",
      "userId": "14119964615119755673"
     },
     "user_tz": -330
    },
    "id": "jCsS5qoaxdeX"
   },
   "outputs": [],
   "source": [
    "if (num_train_sequences%batch_size) == 0:\n",
    "    steps_per_epoch = int(num_train_sequences/batch_size)\n",
    "else:\n",
    "    steps_per_epoch = (num_train_sequences//batch_size) + 1\n",
    "\n",
    "if (num_val_sequences%batch_size) == 0:\n",
    "    validation_steps = int(num_val_sequences/batch_size)\n",
    "else:\n",
    "    validation_steps = (num_val_sequences//batch_size) + 1"
   ]
  },
  {
   "cell_type": "code",
   "execution_count": null,
   "metadata": {
    "colab": {
     "base_uri": "https://localhost:8080/"
    },
    "id": "Zxkd6FRVxxJW",
    "outputId": "2e4b6c7c-47ef-47c6-fdd4-8387686a58fa"
   },
   "outputs": [
    {
     "name": "stdout",
     "output_type": "stream",
     "text": [
      "Source path =  gdrive/MyDrive/Colab Notebooks/Project_data/train ; batch size = 20\n",
      "Epoch 1/50\n",
      "34/34 [==============================] - ETA: 0s - loss: 1.6412 - categorical_accuracy: 0.2353  Source path =  gdrive/MyDrive/Colab Notebooks/Project_data/val ; batch size = 20\n",
      "\n",
      "Epoch 1: saving model to model_init_conv_lstm_2023-10-3004_13_37.027696/model-00001-1.64124-0.23529-1.56414-0.34000.h5\n",
      "34/34 [==============================] - 4304s 130s/step - loss: 1.6412 - categorical_accuracy: 0.2353 - val_loss: 1.5641 - val_categorical_accuracy: 0.3400 - lr: 0.0100\n",
      "Epoch 2/50\n",
      "34/34 [==============================] - ETA: 0s - loss: 1.5625 - categorical_accuracy: 0.2549\n",
      "Epoch 2: saving model to model_init_conv_lstm_2023-10-3004_13_37.027696/model-00002-1.56246-0.25490-1.52563-0.35000.h5\n",
      "34/34 [==============================] - 84s 3s/step - loss: 1.5625 - categorical_accuracy: 0.2549 - val_loss: 1.5256 - val_categorical_accuracy: 0.3500 - lr: 0.0100\n",
      "Epoch 3/50\n",
      "34/34 [==============================] - ETA: 0s - loss: 1.4929 - categorical_accuracy: 0.3484\n",
      "Epoch 3: saving model to model_init_conv_lstm_2023-10-3004_13_37.027696/model-00003-1.49289-0.34842-1.43415-0.57000.h5\n",
      "34/34 [==============================] - 81s 2s/step - loss: 1.4929 - categorical_accuracy: 0.3484 - val_loss: 1.4341 - val_categorical_accuracy: 0.5700 - lr: 0.0100\n",
      "Epoch 4/50\n",
      "34/34 [==============================] - ETA: 0s - loss: 1.4154 - categorical_accuracy: 0.3967\n",
      "Epoch 4: saving model to model_init_conv_lstm_2023-10-3004_13_37.027696/model-00004-1.41536-0.39668-1.32521-0.54000.h5\n",
      "34/34 [==============================] - 78s 2s/step - loss: 1.4154 - categorical_accuracy: 0.3967 - val_loss: 1.3252 - val_categorical_accuracy: 0.5400 - lr: 0.0100\n",
      "Epoch 5/50\n",
      "34/34 [==============================] - ETA: 0s - loss: 1.2827 - categorical_accuracy: 0.4706\n",
      "Epoch 5: saving model to model_init_conv_lstm_2023-10-3004_13_37.027696/model-00005-1.28271-0.47059-1.24528-0.50000.h5\n",
      "34/34 [==============================] - 79s 2s/step - loss: 1.2827 - categorical_accuracy: 0.4706 - val_loss: 1.2453 - val_categorical_accuracy: 0.5000 - lr: 0.0100\n",
      "Epoch 6/50\n",
      "34/34 [==============================] - ETA: 0s - loss: 1.2267 - categorical_accuracy: 0.5173\n",
      "Epoch 6: saving model to model_init_conv_lstm_2023-10-3004_13_37.027696/model-00006-1.22666-0.51735-1.28618-0.49000.h5\n",
      "34/34 [==============================] - 78s 2s/step - loss: 1.2267 - categorical_accuracy: 0.5173 - val_loss: 1.2862 - val_categorical_accuracy: 0.4900 - lr: 0.0100\n",
      "Epoch 7/50\n",
      "34/34 [==============================] - ETA: 0s - loss: 1.1737 - categorical_accuracy: 0.5098\n",
      "Epoch 7: saving model to model_init_conv_lstm_2023-10-3004_13_37.027696/model-00007-1.17367-0.50980-1.13942-0.54000.h5\n",
      "34/34 [==============================] - 78s 2s/step - loss: 1.1737 - categorical_accuracy: 0.5098 - val_loss: 1.1394 - val_categorical_accuracy: 0.5400 - lr: 0.0100\n",
      "Epoch 8/50\n",
      "34/34 [==============================] - ETA: 0s - loss: 1.0970 - categorical_accuracy: 0.5234\n",
      "Epoch 8: saving model to model_init_conv_lstm_2023-10-3004_13_37.027696/model-00008-1.09701-0.52338-1.31107-0.47000.h5\n",
      "34/34 [==============================] - 80s 2s/step - loss: 1.0970 - categorical_accuracy: 0.5234 - val_loss: 1.3111 - val_categorical_accuracy: 0.4700 - lr: 0.0100\n",
      "Epoch 9/50\n",
      "34/34 [==============================] - ETA: 0s - loss: 1.1418 - categorical_accuracy: 0.5038\n",
      "Epoch 9: saving model to model_init_conv_lstm_2023-10-3004_13_37.027696/model-00009-1.14180-0.50377-1.05448-0.58000.h5\n",
      "34/34 [==============================] - 77s 2s/step - loss: 1.1418 - categorical_accuracy: 0.5038 - val_loss: 1.0545 - val_categorical_accuracy: 0.5800 - lr: 0.0100\n",
      "Epoch 10/50\n",
      "34/34 [==============================] - ETA: 0s - loss: 0.9956 - categorical_accuracy: 0.5747\n",
      "Epoch 10: saving model to model_init_conv_lstm_2023-10-3004_13_37.027696/model-00010-0.99557-0.57466-0.99462-0.56000.h5\n",
      "34/34 [==============================] - 81s 2s/step - loss: 0.9956 - categorical_accuracy: 0.5747 - val_loss: 0.9946 - val_categorical_accuracy: 0.5600 - lr: 0.0100\n",
      "Epoch 11/50\n",
      "34/34 [==============================] - ETA: 0s - loss: 0.8861 - categorical_accuracy: 0.6621\n",
      "Epoch 11: saving model to model_init_conv_lstm_2023-10-3004_13_37.027696/model-00011-0.88612-0.66214-0.96436-0.64000.h5\n",
      "34/34 [==============================] - 80s 2s/step - loss: 0.8861 - categorical_accuracy: 0.6621 - val_loss: 0.9644 - val_categorical_accuracy: 0.6400 - lr: 0.0100\n",
      "Epoch 12/50\n",
      "34/34 [==============================] - ETA: 0s - loss: 0.8769 - categorical_accuracy: 0.6621\n",
      "Epoch 12: saving model to model_init_conv_lstm_2023-10-3004_13_37.027696/model-00012-0.87693-0.66214-0.95133-0.64000.h5\n",
      "34/34 [==============================] - 77s 2s/step - loss: 0.8769 - categorical_accuracy: 0.6621 - val_loss: 0.9513 - val_categorical_accuracy: 0.6400 - lr: 0.0100\n",
      "Epoch 13/50\n",
      "34/34 [==============================] - ETA: 0s - loss: 0.8312 - categorical_accuracy: 0.6908\n",
      "Epoch 13: saving model to model_init_conv_lstm_2023-10-3004_13_37.027696/model-00013-0.83119-0.69080-0.89073-0.69000.h5\n",
      "34/34 [==============================] - 78s 2s/step - loss: 0.8312 - categorical_accuracy: 0.6908 - val_loss: 0.8907 - val_categorical_accuracy: 0.6900 - lr: 0.0100\n",
      "Epoch 14/50\n",
      "34/34 [==============================] - ETA: 0s - loss: 0.7673 - categorical_accuracy: 0.7210\n",
      "Epoch 14: saving model to model_init_conv_lstm_2023-10-3004_13_37.027696/model-00014-0.76732-0.72097-0.93583-0.66000.h5\n",
      "34/34 [==============================] - 79s 2s/step - loss: 0.7673 - categorical_accuracy: 0.7210 - val_loss: 0.9358 - val_categorical_accuracy: 0.6600 - lr: 0.0100\n",
      "Epoch 15/50\n",
      "34/34 [==============================] - ETA: 0s - loss: 0.7310 - categorical_accuracy: 0.7391\n",
      "Epoch 15: saving model to model_init_conv_lstm_2023-10-3004_13_37.027696/model-00015-0.73097-0.73906-0.83358-0.62000.h5\n",
      "34/34 [==============================] - 78s 2s/step - loss: 0.7310 - categorical_accuracy: 0.7391 - val_loss: 0.8336 - val_categorical_accuracy: 0.6200 - lr: 0.0100\n",
      "Epoch 16/50\n",
      "34/34 [==============================] - ETA: 0s - loss: 0.7392 - categorical_accuracy: 0.7179\n",
      "Epoch 16: saving model to model_init_conv_lstm_2023-10-3004_13_37.027696/model-00016-0.73920-0.71795-1.02103-0.61000.h5\n",
      "34/34 [==============================] - 79s 2s/step - loss: 0.7392 - categorical_accuracy: 0.7179 - val_loss: 1.0210 - val_categorical_accuracy: 0.6100 - lr: 0.0100\n",
      "Epoch 17/50\n",
      "34/34 [==============================] - ETA: 0s - loss: 0.7073 - categorical_accuracy: 0.7285\n",
      "Epoch 17: saving model to model_init_conv_lstm_2023-10-3004_13_37.027696/model-00017-0.70729-0.72851-0.85249-0.67000.h5\n",
      "\n",
      "Epoch 17: ReduceLROnPlateau reducing learning rate to 0.004999999888241291.\n",
      "34/34 [==============================] - 77s 2s/step - loss: 0.7073 - categorical_accuracy: 0.7285 - val_loss: 0.8525 - val_categorical_accuracy: 0.6700 - lr: 0.0100\n",
      "Epoch 18/50\n",
      "34/34 [==============================] - ETA: 0s - loss: 0.6088 - categorical_accuracy: 0.7903\n",
      "Epoch 18: saving model to model_init_conv_lstm_2023-10-3004_13_37.027696/model-00018-0.60876-0.79035-0.76360-0.72000.h5\n",
      "34/34 [==============================] - 78s 2s/step - loss: 0.6088 - categorical_accuracy: 0.7903 - val_loss: 0.7636 - val_categorical_accuracy: 0.7200 - lr: 0.0050\n",
      "Epoch 19/50\n",
      "34/34 [==============================] - ETA: 0s - loss: 0.5898 - categorical_accuracy: 0.7994\n",
      "Epoch 19: saving model to model_init_conv_lstm_2023-10-3004_13_37.027696/model-00019-0.58985-0.79940-0.85450-0.75000.h5\n",
      "34/34 [==============================] - 81s 2s/step - loss: 0.5898 - categorical_accuracy: 0.7994 - val_loss: 0.8545 - val_categorical_accuracy: 0.7500 - lr: 0.0050\n",
      "Epoch 20/50\n",
      "34/34 [==============================] - ETA: 0s - loss: 0.5494 - categorical_accuracy: 0.8250\n",
      "Epoch 20: saving model to model_init_conv_lstm_2023-10-3004_13_37.027696/model-00020-0.54941-0.82504-0.71513-0.77000.h5\n",
      "34/34 [==============================] - 78s 2s/step - loss: 0.5494 - categorical_accuracy: 0.8250 - val_loss: 0.7151 - val_categorical_accuracy: 0.7700 - lr: 0.0050\n",
      "Epoch 21/50\n",
      "34/34 [==============================] - ETA: 0s - loss: 0.5332 - categorical_accuracy: 0.8431\n",
      "Epoch 21: saving model to model_init_conv_lstm_2023-10-3004_13_37.027696/model-00021-0.53319-0.84314-0.75516-0.77000.h5\n",
      "34/34 [==============================] - 79s 2s/step - loss: 0.5332 - categorical_accuracy: 0.8431 - val_loss: 0.7552 - val_categorical_accuracy: 0.7700 - lr: 0.0050\n",
      "Epoch 22/50\n",
      "34/34 [==============================] - ETA: 0s - loss: 0.4983 - categorical_accuracy: 0.8522\n",
      "Epoch 22: saving model to model_init_conv_lstm_2023-10-3004_13_37.027696/model-00022-0.49830-0.85219-0.65609-0.83000.h5\n",
      "34/34 [==============================] - 77s 2s/step - loss: 0.4983 - categorical_accuracy: 0.8522 - val_loss: 0.6561 - val_categorical_accuracy: 0.8300 - lr: 0.0050\n",
      "Epoch 23/50\n",
      "34/34 [==============================] - ETA: 0s - loss: 0.4631 - categorical_accuracy: 0.8914\n",
      "Epoch 23: saving model to model_init_conv_lstm_2023-10-3004_13_37.027696/model-00023-0.46307-0.89140-0.73340-0.75000.h5\n",
      "34/34 [==============================] - 80s 2s/step - loss: 0.4631 - categorical_accuracy: 0.8914 - val_loss: 0.7334 - val_categorical_accuracy: 0.7500 - lr: 0.0050\n",
      "Epoch 24/50\n",
      "34/34 [==============================] - ETA: 0s - loss: 0.4525 - categorical_accuracy: 0.8854\n",
      "Epoch 24: saving model to model_init_conv_lstm_2023-10-3004_13_37.027696/model-00024-0.45252-0.88537-0.77398-0.77000.h5\n",
      "\n",
      "Epoch 24: ReduceLROnPlateau reducing learning rate to 0.0024999999441206455.\n",
      "34/34 [==============================] - 78s 2s/step - loss: 0.4525 - categorical_accuracy: 0.8854 - val_loss: 0.7740 - val_categorical_accuracy: 0.7700 - lr: 0.0050\n",
      "Epoch 25/50\n",
      "34/34 [==============================] - ETA: 0s - loss: 0.4225 - categorical_accuracy: 0.9080\n",
      "Epoch 25: saving model to model_init_conv_lstm_2023-10-3004_13_37.027696/model-00025-0.42251-0.90799-0.75499-0.73000.h5\n",
      "34/34 [==============================] - 79s 2s/step - loss: 0.4225 - categorical_accuracy: 0.9080 - val_loss: 0.7550 - val_categorical_accuracy: 0.7300 - lr: 0.0025\n",
      "Epoch 26/50\n",
      "34/34 [==============================] - ETA: 0s - loss: 0.4136 - categorical_accuracy: 0.9020\n",
      "Epoch 26: saving model to model_init_conv_lstm_2023-10-3004_13_37.027696/model-00026-0.41363-0.90196-0.75626-0.72000.h5\n",
      "\n",
      "Epoch 26: ReduceLROnPlateau reducing learning rate to 0.0012499999720603228.\n",
      "34/34 [==============================] - 80s 2s/step - loss: 0.4136 - categorical_accuracy: 0.9020 - val_loss: 0.7563 - val_categorical_accuracy: 0.7200 - lr: 0.0025\n",
      "Epoch 27/50\n",
      "34/34 [==============================] - ETA: 0s - loss: 0.4176 - categorical_accuracy: 0.9095\n",
      "Epoch 27: saving model to model_init_conv_lstm_2023-10-3004_13_37.027696/model-00027-0.41764-0.90950-0.79735-0.73000.h5\n",
      "34/34 [==============================] - 78s 2s/step - loss: 0.4176 - categorical_accuracy: 0.9095 - val_loss: 0.7974 - val_categorical_accuracy: 0.7300 - lr: 0.0012\n",
      "Epoch 28/50\n",
      "34/34 [==============================] - ETA: 0s - loss: 0.3997 - categorical_accuracy: 0.9050\n",
      "Epoch 28: saving model to model_init_conv_lstm_2023-10-3004_13_37.027696/model-00028-0.39975-0.90498-0.72488-0.77000.h5\n",
      "\n",
      "Epoch 28: ReduceLROnPlateau reducing learning rate to 0.0006249999860301614.\n",
      "34/34 [==============================] - 78s 2s/step - loss: 0.3997 - categorical_accuracy: 0.9050 - val_loss: 0.7249 - val_categorical_accuracy: 0.7700 - lr: 0.0012\n",
      "Epoch 29/50\n",
      "34/34 [==============================] - ETA: 0s - loss: 0.4246 - categorical_accuracy: 0.8884\n",
      "Epoch 29: saving model to model_init_conv_lstm_2023-10-3004_13_37.027696/model-00029-0.42464-0.88839-0.75537-0.72000.h5\n",
      "34/34 [==============================] - 79s 2s/step - loss: 0.4246 - categorical_accuracy: 0.8884 - val_loss: 0.7554 - val_categorical_accuracy: 0.7200 - lr: 6.2500e-04\n",
      "Epoch 30/50\n",
      "34/34 [==============================] - ETA: 0s - loss: 0.4097 - categorical_accuracy: 0.8989\n",
      "Epoch 30: saving model to model_init_conv_lstm_2023-10-3004_13_37.027696/model-00030-0.40973-0.89894-0.79069-0.75000.h5\n",
      "\n",
      "Epoch 30: ReduceLROnPlateau reducing learning rate to 0.0003124999930150807.\n",
      "34/34 [==============================] - 79s 2s/step - loss: 0.4097 - categorical_accuracy: 0.8989 - val_loss: 0.7907 - val_categorical_accuracy: 0.7500 - lr: 6.2500e-04\n",
      "Epoch 31/50\n",
      "34/34 [==============================] - ETA: 0s - loss: 0.4030 - categorical_accuracy: 0.9155\n",
      "Epoch 31: saving model to model_init_conv_lstm_2023-10-3004_13_37.027696/model-00031-0.40298-0.91554-0.74874-0.76000.h5\n",
      "34/34 [==============================] - 79s 2s/step - loss: 0.4030 - categorical_accuracy: 0.9155 - val_loss: 0.7487 - val_categorical_accuracy: 0.7600 - lr: 3.1250e-04\n",
      "Epoch 32/50\n",
      "34/34 [==============================] - ETA: 0s - loss: 0.4047 - categorical_accuracy: 0.9155\n",
      "Epoch 32: saving model to model_init_conv_lstm_2023-10-3004_13_37.027696/model-00032-0.40469-0.91554-0.78508-0.74000.h5\n",
      "\n",
      "Epoch 32: ReduceLROnPlateau reducing learning rate to 0.00015624999650754035.\n",
      "34/34 [==============================] - 76s 2s/step - loss: 0.4047 - categorical_accuracy: 0.9155 - val_loss: 0.7851 - val_categorical_accuracy: 0.7400 - lr: 3.1250e-04\n",
      "Epoch 33/50\n",
      "34/34 [==============================] - ETA: 0s - loss: 0.3833 - categorical_accuracy: 0.9110\n",
      "Epoch 33: saving model to model_init_conv_lstm_2023-10-3004_13_37.027696/model-00033-0.38330-0.91101-0.69471-0.74000.h5\n",
      "34/34 [==============================] - 77s 2s/step - loss: 0.3833 - categorical_accuracy: 0.9110 - val_loss: 0.6947 - val_categorical_accuracy: 0.7400 - lr: 1.5625e-04\n",
      "Epoch 34/50\n",
      "34/34 [==============================] - ETA: 0s - loss: 0.3920 - categorical_accuracy: 0.9110\n",
      "Epoch 34: saving model to model_init_conv_lstm_2023-10-3004_13_37.027696/model-00034-0.39200-0.91101-0.83071-0.75000.h5\n",
      "\n",
      "Epoch 34: ReduceLROnPlateau reducing learning rate to 7.812499825377017e-05.\n",
      "34/34 [==============================] - 80s 2s/step - loss: 0.3920 - categorical_accuracy: 0.9110 - val_loss: 0.8307 - val_categorical_accuracy: 0.7500 - lr: 1.5625e-04\n",
      "Epoch 35/50\n",
      "34/34 [==============================] - ETA: 0s - loss: 0.3848 - categorical_accuracy: 0.9140\n",
      "Epoch 35: saving model to model_init_conv_lstm_2023-10-3004_13_37.027696/model-00035-0.38477-0.91403-0.67504-0.77000.h5\n",
      "34/34 [==============================] - 76s 2s/step - loss: 0.3848 - categorical_accuracy: 0.9140 - val_loss: 0.6750 - val_categorical_accuracy: 0.7700 - lr: 7.8125e-05\n",
      "Epoch 36/50\n",
      "34/34 [==============================] - ETA: 0s - loss: 0.3847 - categorical_accuracy: 0.9155\n",
      "Epoch 36: saving model to model_init_conv_lstm_2023-10-3004_13_37.027696/model-00036-0.38475-0.91554-0.74165-0.76000.h5\n",
      "\n",
      "Epoch 36: ReduceLROnPlateau reducing learning rate to 3.9062499126885086e-05.\n",
      "34/34 [==============================] - 78s 2s/step - loss: 0.3847 - categorical_accuracy: 0.9155 - val_loss: 0.7417 - val_categorical_accuracy: 0.7600 - lr: 7.8125e-05\n",
      "Epoch 37/50\n",
      "34/34 [==============================] - ETA: 0s - loss: 0.3826 - categorical_accuracy: 0.9110\n",
      "Epoch 37: saving model to model_init_conv_lstm_2023-10-3004_13_37.027696/model-00037-0.38263-0.91101-0.71979-0.78000.h5\n",
      "34/34 [==============================] - 79s 2s/step - loss: 0.3826 - categorical_accuracy: 0.9110 - val_loss: 0.7198 - val_categorical_accuracy: 0.7800 - lr: 3.9062e-05\n",
      "Epoch 38/50\n",
      "34/34 [==============================] - ETA: 0s - loss: 0.3745 - categorical_accuracy: 0.9186\n",
      "Epoch 38: saving model to model_init_conv_lstm_2023-10-3004_13_37.027696/model-00038-0.37451-0.91855-0.66837-0.78000.h5\n",
      "\n",
      "Epoch 38: ReduceLROnPlateau reducing learning rate to 1.9531249563442543e-05.\n",
      "34/34 [==============================] - 76s 2s/step - loss: 0.3745 - categorical_accuracy: 0.9186 - val_loss: 0.6684 - val_categorical_accuracy: 0.7800 - lr: 3.9062e-05\n",
      "Epoch 39/50\n",
      "34/34 [==============================] - ETA: 0s - loss: 0.4004 - categorical_accuracy: 0.9095\n",
      "Epoch 39: saving model to model_init_conv_lstm_2023-10-3004_13_37.027696/model-00039-0.40044-0.90950-0.76392-0.75000.h5\n",
      "34/34 [==============================] - 80s 2s/step - loss: 0.4004 - categorical_accuracy: 0.9095 - val_loss: 0.7639 - val_categorical_accuracy: 0.7500 - lr: 1.9531e-05\n",
      "Epoch 40/50\n",
      "34/34 [==============================] - ETA: 0s - loss: 0.3993 - categorical_accuracy: 0.9125\n",
      "Epoch 40: saving model to model_init_conv_lstm_2023-10-3004_13_37.027696/model-00040-0.39933-0.91252-0.74228-0.76000.h5\n",
      "\n",
      "Epoch 40: ReduceLROnPlateau reducing learning rate to 1e-05.\n",
      "34/34 [==============================] - 77s 2s/step - loss: 0.3993 - categorical_accuracy: 0.9125 - val_loss: 0.7423 - val_categorical_accuracy: 0.7600 - lr: 1.9531e-05\n",
      "Epoch 41/50\n",
      "34/34 [==============================] - ETA: 0s - loss: 0.4064 - categorical_accuracy: 0.9080\n",
      "Epoch 41: saving model to model_init_conv_lstm_2023-10-3004_13_37.027696/model-00041-0.40641-0.90799-0.74133-0.76000.h5\n",
      "34/34 [==============================] - 78s 2s/step - loss: 0.4064 - categorical_accuracy: 0.9080 - val_loss: 0.7413 - val_categorical_accuracy: 0.7600 - lr: 1.0000e-05\n",
      "Epoch 42/50\n",
      "34/34 [==============================] - ETA: 0s - loss: 0.4042 - categorical_accuracy: 0.9035\n",
      "Epoch 42: saving model to model_init_conv_lstm_2023-10-3004_13_37.027696/model-00042-0.40422-0.90347-0.72802-0.78000.h5\n",
      "34/34 [==============================] - 80s 2s/step - loss: 0.4042 - categorical_accuracy: 0.9035 - val_loss: 0.7280 - val_categorical_accuracy: 0.7800 - lr: 1.0000e-05\n",
      "Epoch 43/50\n",
      "34/34 [==============================] - ETA: 0s - loss: 0.3880 - categorical_accuracy: 0.9216\n",
      "Epoch 43: saving model to model_init_conv_lstm_2023-10-3004_13_37.027696/model-00043-0.38804-0.92157-0.66797-0.78000.h5\n",
      "34/34 [==============================] - 77s 2s/step - loss: 0.3880 - categorical_accuracy: 0.9216 - val_loss: 0.6680 - val_categorical_accuracy: 0.7800 - lr: 1.0000e-05\n",
      "Epoch 44/50\n",
      "31/34 [==========================>...] - ETA: 5s - loss: 0.3990 - categorical_accuracy: 0.9113"
     ]
    }
   ],
   "source": [
    "history6 = model.fit_generator(train_generator, steps_per_epoch=steps_per_epoch, epochs=num_epochs, verbose=1,\n",
    "                    callbacks=callbacks_list, validation_data=val_generator,\n",
    "                    validation_steps=validation_steps, class_weight=None, workers=1, initial_epoch=0)"
   ]
  },
  {
   "cell_type": "markdown",
   "metadata": {
    "id": "6SaUF_ufxxMf"
   },
   "source": [
    "## The final output or the performance we discuss \n",
    "### Conclusion categorical_accuracy: 0.9216 and val_categorical_accuracy: 0.7800"
   ]
  },
  {
   "cell_type": "code",
   "execution_count": null,
   "metadata": {},
   "outputs": [],
   "source": []
  }
 ],
 "metadata": {
  "accelerator": "GPU",
  "colab": {
   "authorship_tag": "ABX9TyOuCq0WUFQ9g8W9j5qoIa7s",
   "gpuType": "T4",
   "provenance": []
  },
  "kernelspec": {
   "display_name": "Python 3 (ipykernel)",
   "language": "python",
   "name": "python3"
  },
  "language_info": {
   "codemirror_mode": {
    "name": "ipython",
    "version": 3
   },
   "file_extension": ".py",
   "mimetype": "text/x-python",
   "name": "python",
   "nbconvert_exporter": "python",
   "pygments_lexer": "ipython3",
   "version": "3.8.10"
  }
 },
 "nbformat": 4,
 "nbformat_minor": 4
}
